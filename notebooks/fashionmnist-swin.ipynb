{
 "cells": [
  {
   "cell_type": "markdown",
   "id": "3eeb203d",
   "metadata": {},
   "source": [
    "# Import Libraries"
   ]
  },
  {
   "cell_type": "code",
   "execution_count": null,
   "id": "f6ba8fad",
   "metadata": {
    "execution": {
     "iopub.execute_input": "2025-07-21T12:34:25.950779Z",
     "iopub.status.busy": "2025-07-21T12:34:25.950553Z",
     "iopub.status.idle": "2025-07-21T12:34:39.356638Z",
     "shell.execute_reply": "2025-07-21T12:34:39.356092Z"
    },
    "papermill": {
     "duration": 13.411665,
     "end_time": "2025-07-21T12:34:39.357951",
     "exception": false,
     "start_time": "2025-07-21T12:34:25.946286",
     "status": "completed"
    },
    "tags": []
   },
   "outputs": [],
   "source": [
    "import torch\n",
    "import torch.nn as nn\n",
    "import torch.optim as optim\n",
    "import torchvision\n",
    "import torchvision.transforms as T\n",
    "import timm\n",
    "from tqdm import tqdm\n",
    "import pandas as pd"
   ]
  },
  {
   "cell_type": "markdown",
   "id": "42a9d5e0",
   "metadata": {
    "papermill": {
     "duration": 0.002618,
     "end_time": "2025-07-21T12:34:39.363783",
     "exception": false,
     "start_time": "2025-07-21T12:34:39.361165",
     "status": "completed"
    },
    "tags": []
   },
   "source": [
    "# Device and Constants"
   ]
  },
  {
   "cell_type": "code",
   "execution_count": null,
   "id": "6efea4c8",
   "metadata": {
    "execution": {
     "iopub.execute_input": "2025-07-21T12:34:39.369986Z",
     "iopub.status.busy": "2025-07-21T12:34:39.369753Z",
     "iopub.status.idle": "2025-07-21T12:34:39.457077Z",
     "shell.execute_reply": "2025-07-21T12:34:39.456327Z"
    },
    "papermill": {
     "duration": 0.091715,
     "end_time": "2025-07-21T12:34:39.458200",
     "exception": false,
     "start_time": "2025-07-21T12:34:39.366485",
     "status": "completed"
    },
    "tags": []
   },
   "outputs": [],
   "source": [
    "\n",
    "device = torch.device('cuda' if torch.cuda.is_available() else 'cpu')\n",
    "img_size = 224\n",
    "mean = (0.2860, 0.2860, 0.2860)\n",
    "std = (0.3530, 0.3530, 0.3530)\n",
    "batch_size = 16"
   ]
  },
  {
   "cell_type": "markdown",
   "id": "5b11a985",
   "metadata": {
    "papermill": {
     "duration": 0.00254,
     "end_time": "2025-07-21T12:34:39.463509",
     "exception": false,
     "start_time": "2025-07-21T12:34:39.460969",
     "status": "completed"
    },
    "tags": []
   },
   "source": [
    "# Transforms"
   ]
  },
  {
   "cell_type": "code",
   "execution_count": null,
   "id": "8f4181df",
   "metadata": {
    "execution": {
     "iopub.execute_input": "2025-07-21T12:34:39.469965Z",
     "iopub.status.busy": "2025-07-21T12:34:39.469226Z",
     "iopub.status.idle": "2025-07-21T12:34:39.473514Z",
     "shell.execute_reply": "2025-07-21T12:34:39.473043Z"
    },
    "papermill": {
     "duration": 0.008361,
     "end_time": "2025-07-21T12:34:39.474515",
     "exception": false,
     "start_time": "2025-07-21T12:34:39.466154",
     "status": "completed"
    },
    "tags": []
   },
   "outputs": [],
   "source": [
    "def make_train_transform(img_size):\n",
    "    return T.Compose([\n",
    "        T.Resize(img_size),\n",
    "        T.Grayscale(num_output_channels=3),\n",
    "        T.RandomHorizontalFlip(),\n",
    "        T.RandomCrop(img_size, padding=4),\n",
    "        T.ToTensor(),\n",
    "        T.Normalize(mean, std)\n",
    "    ])\n",
    "\n",
    "def make_test_transform(img_size):\n",
    "    return T.Compose([\n",
    "        T.Resize(img_size),\n",
    "        T.Grayscale(num_output_channels=3),\n",
    "        T.ToTensor(),\n",
    "        T.Normalize(mean, std)\n",
    "    ])"
   ]
  },
  {
   "cell_type": "markdown",
   "id": "c0187d00",
   "metadata": {
    "papermill": {
     "duration": 0.002383,
     "end_time": "2025-07-21T12:34:39.479559",
     "exception": false,
     "start_time": "2025-07-21T12:34:39.477176",
     "status": "completed"
    },
    "tags": []
   },
   "source": [
    "# Data"
   ]
  },
  {
   "cell_type": "code",
   "execution_count": null,
   "id": "7cfca8ea",
   "metadata": {
    "execution": {
     "iopub.execute_input": "2025-07-21T12:34:39.485760Z",
     "iopub.status.busy": "2025-07-21T12:34:39.485249Z",
     "iopub.status.idle": "2025-07-21T12:34:44.781048Z",
     "shell.execute_reply": "2025-07-21T12:34:44.780224Z"
    },
    "papermill": {
     "duration": 5.300172,
     "end_time": "2025-07-21T12:34:44.782344",
     "exception": false,
     "start_time": "2025-07-21T12:34:39.482172",
     "status": "completed"
    },
    "tags": []
   },
   "outputs": [],
   "source": [
    "trainset = torchvision.datasets.FashionMNIST(root='./data', train=True, download=True, transform=make_train_transform(img_size))\n",
    "testset = torchvision.datasets.FashionMNIST(root='./data', train=False, download=True, transform=make_test_transform(img_size))\n",
    "trainloader = torch.utils.data.DataLoader(trainset, batch_size=batch_size, shuffle=True, num_workers=2, pin_memory=True)\n",
    "testloader = torch.utils.data.DataLoader(testset, batch_size=batch_size, shuffle=False, num_workers=2, pin_memory=True)"
   ]
  },
  {
   "cell_type": "markdown",
   "id": "b4c7053d",
   "metadata": {
    "papermill": {
     "duration": 0.004967,
     "end_time": "2025-07-21T12:34:44.791826",
     "exception": false,
     "start_time": "2025-07-21T12:34:44.786859",
     "status": "completed"
    },
    "tags": []
   },
   "source": [
    "#  Model (Swin Tiny)"
   ]
  },
  {
   "cell_type": "code",
   "execution_count": null,
   "id": "cc322b77",
   "metadata": {
    "execution": {
     "iopub.execute_input": "2025-07-21T12:34:44.801376Z",
     "iopub.status.busy": "2025-07-21T12:34:44.801154Z",
     "iopub.status.idle": "2025-07-21T12:34:46.327169Z",
     "shell.execute_reply": "2025-07-21T12:34:46.326564Z"
    },
    "papermill": {
     "duration": 1.532704,
     "end_time": "2025-07-21T12:34:46.328484",
     "exception": false,
     "start_time": "2025-07-21T12:34:44.795780",
     "status": "completed"
    },
    "tags": []
   },
   "outputs": [],
   "source": [
    "model = timm.create_model('swin_tiny_patch4_window7_224', pretrained=True)\n",
    "model.head = nn.Linear(model.head.in_features, 10)\n",
    "model = model.to(device)"
   ]
  },
  {
   "cell_type": "markdown",
   "id": "d93ff5db",
   "metadata": {
    "papermill": {
     "duration": 0.004084,
     "end_time": "2025-07-21T12:34:46.337150",
     "exception": false,
     "start_time": "2025-07-21T12:34:46.333066",
     "status": "completed"
    },
    "tags": []
   },
   "source": [
    "# Optimizer, Scheduler, Loss"
   ]
  },
  {
   "cell_type": "code",
   "execution_count": null,
   "id": "80d0a8a0",
   "metadata": {
    "execution": {
     "iopub.execute_input": "2025-07-21T12:34:46.345934Z",
     "iopub.status.busy": "2025-07-21T12:34:46.345704Z",
     "iopub.status.idle": "2025-07-21T12:34:46.350438Z",
     "shell.execute_reply": "2025-07-21T12:34:46.349907Z"
    },
    "papermill": {
     "duration": 0.010316,
     "end_time": "2025-07-21T12:34:46.351416",
     "exception": false,
     "start_time": "2025-07-21T12:34:46.341100",
     "status": "completed"
    },
    "tags": []
   },
   "outputs": [],
   "source": [
    "optimizer = optim.Adam(model.parameters(), lr=5e-4, weight_decay=1e-4)\n",
    "scheduler = torch.optim.lr_scheduler.StepLR(optimizer, step_size=8, gamma=0.3)\n",
    "criterion = nn.CrossEntropyLoss()\n",
    "epochs = 10"
   ]
  },
  {
   "cell_type": "markdown",
   "id": "44464048",
   "metadata": {
    "papermill": {
     "duration": 0.003825,
     "end_time": "2025-07-21T12:34:46.359298",
     "exception": false,
     "start_time": "2025-07-21T12:34:46.355473",
     "status": "completed"
    },
    "tags": []
   },
   "source": [
    "#  Training/Evaluation Functions"
   ]
  },
  {
   "cell_type": "code",
   "execution_count": null,
   "id": "cc5a0c99",
   "metadata": {
    "execution": {
     "iopub.execute_input": "2025-07-21T12:34:46.368103Z",
     "iopub.status.busy": "2025-07-21T12:34:46.367790Z",
     "iopub.status.idle": "2025-07-21T12:34:46.374608Z",
     "shell.execute_reply": "2025-07-21T12:34:46.373969Z"
    },
    "papermill": {
     "duration": 0.012276,
     "end_time": "2025-07-21T12:34:46.375589",
     "exception": false,
     "start_time": "2025-07-21T12:34:46.363313",
     "status": "completed"
    },
    "tags": []
   },
   "outputs": [],
   "source": [
    "def train_one_epoch(model, loader, criterion, optimizer, device):\n",
    "    model.train()\n",
    "    running_loss = 0.0\n",
    "    correct = 0\n",
    "    total = 0\n",
    "    for images, labels in loader:\n",
    "        images, labels = images.to(device), labels.to(device)\n",
    "        optimizer.zero_grad()\n",
    "        outputs = model(images)\n",
    "        if outputs.dim() == 4:\n",
    "            outputs = outputs.mean(dim=(1, 2))\n",
    "        elif outputs.dim() == 3:\n",
    "            outputs = outputs.mean(1)       \n",
    "        loss = criterion(outputs, labels)\n",
    "        loss.backward()\n",
    "        optimizer.step()\n",
    "        _, preds = torch.max(outputs, 1)\n",
    "        correct += (preds == labels).sum().item()\n",
    "        total += labels.size(0)\n",
    "        running_loss += loss.item() * images.size(0)\n",
    "    avg_loss = running_loss / total\n",
    "    avg_acc = 100.0 * correct / total\n",
    "    return avg_loss, avg_acc\n",
    "\n",
    "def evaluate(model, dataloader):\n",
    "    model.eval()\n",
    "    correct = 0\n",
    "    total = 0\n",
    "    with torch.no_grad():\n",
    "        for images, labels in dataloader:\n",
    "            images, labels = images.to(device), labels.to(device)\n",
    "            outputs = model(images)\n",
    "            if outputs.dim() == 4:\n",
    "                outputs = outputs.mean(dim=(1, 2))\n",
    "            elif outputs.dim() == 3:\n",
    "                outputs = outputs.mean(1)\n",
    "            _, preds = torch.max(outputs, 1)\n",
    "            correct += (preds == labels).sum().item()\n",
    "            total += labels.size(0)\n",
    "    return 100.0 * correct / total"
   ]
  },
  {
   "cell_type": "markdown",
   "id": "68a7f1d8",
   "metadata": {
    "papermill": {
     "duration": 0.003902,
     "end_time": "2025-07-21T12:34:46.383516",
     "exception": false,
     "start_time": "2025-07-21T12:34:46.379614",
     "status": "completed"
    },
    "tags": []
   },
   "source": [
    "# Training Loop"
   ]
  },
  {
   "cell_type": "code",
   "execution_count": null,
   "id": "71f6ed74",
   "metadata": {
    "execution": {
     "iopub.execute_input": "2025-07-21T12:34:46.392421Z",
     "iopub.status.busy": "2025-07-21T12:34:46.391937Z",
     "iopub.status.idle": "2025-07-21T15:07:21.158806Z",
     "shell.execute_reply": "2025-07-21T15:07:21.157599Z"
    },
    "papermill": {
     "duration": 9154.782,
     "end_time": "2025-07-21T15:07:21.169453",
     "exception": false,
     "start_time": "2025-07-21T12:34:46.387453",
     "status": "completed"
    },
    "tags": []
   },
   "outputs": [],
   "source": [
    "for epoch in range(epochs):\n",
    "    train_loss, train_acc = train_one_epoch(model, trainloader, criterion, optimizer, device)\n",
    "    test_acc = evaluate(model, testloader)\n",
    "    print(f\"Epoch {epoch+1}/{epochs}: \"\n",
    "          f\"Train Loss: {train_loss:.4f}, \"\n",
    "          f\"Train Acc: {train_acc:.2f}%, \"\n",
    "          f\"Test Acc: {test_acc:.2f}%\")\n",
    "    scheduler.step()\n",
    "    torch.cuda.empty_cache()"
   ]
  },
  {
   "cell_type": "markdown",
   "id": "18b4b1a9",
   "metadata": {
    "papermill": {
     "duration": 0.009829,
     "end_time": "2025-07-21T15:07:21.189550",
     "exception": false,
     "start_time": "2025-07-21T15:07:21.179721",
     "status": "completed"
    },
    "tags": []
   },
   "source": [
    "\n",
    "#  Save Model"
   ]
  },
  {
   "cell_type": "code",
   "execution_count": null,
   "id": "eb5ffb2b",
   "metadata": {
    "execution": {
     "iopub.execute_input": "2025-07-21T15:07:21.203953Z",
     "iopub.status.busy": "2025-07-21T15:07:21.202981Z",
     "iopub.status.idle": "2025-07-21T15:07:21.393564Z",
     "shell.execute_reply": "2025-07-21T15:07:21.392689Z"
    },
    "papermill": {
     "duration": 0.200365,
     "end_time": "2025-07-21T15:07:21.395379",
     "exception": false,
     "start_time": "2025-07-21T15:07:21.195014",
     "status": "completed"
    },
    "tags": []
   },
   "outputs": [],
   "source": [
    "torch.save(model.state_dict(), \"Swin-Tiny_FashionMNIST.pth\")\n",
    "print(\"Saved Swin-Tiny trained weights.\")"
   ]
  },
  {
   "cell_type": "code",
   "execution_count": null,
   "id": "064e9306",
   "metadata": {
    "execution": {
     "iopub.execute_input": "2025-07-21T15:07:21.416132Z",
     "iopub.status.busy": "2025-07-21T15:07:21.415804Z",
     "iopub.status.idle": "2025-07-21T15:07:21.423616Z",
     "shell.execute_reply": "2025-07-21T15:07:21.422787Z"
    },
    "papermill": {
     "duration": 0.019837,
     "end_time": "2025-07-21T15:07:21.424982",
     "exception": false,
     "start_time": "2025-07-21T15:07:21.405145",
     "status": "completed"
    },
    "tags": []
   },
   "outputs": [],
   "source": [
    "from torchvision import transforms as T\n",
    "\n",
    "def make_transforms(img_size):\n",
    "    mean = (0.2860, 0.2860, 0.2860)\n",
    "    std = (0.3530, 0.3530, 0.3530)\n",
    "    return {\n",
    "        \"Clean\": T.Compose([\n",
    "            T.Resize(img_size),\n",
    "            T.Grayscale(num_output_channels=3),\n",
    "            T.ToTensor(),\n",
    "            T.Normalize(mean, std),\n",
    "        ]),\n",
    "        \"Horizontal Flip\": T.Compose([\n",
    "            T.Resize(img_size),\n",
    "            T.Grayscale(num_output_channels=3),\n",
    "            T.RandomHorizontalFlip(p=1.0),\n",
    "            T.ToTensor(),\n",
    "            T.Normalize(mean, std),\n",
    "        ]),\n",
    "        \"Rotation\": T.Compose([\n",
    "            T.Resize(img_size),\n",
    "            T.Grayscale(num_output_channels=3),\n",
    "            T.RandomRotation(30),\n",
    "            T.ToTensor(),\n",
    "            T.Normalize(mean, std),\n",
    "        ]),\n",
    "        \"Blur\": T.Compose([\n",
    "            T.Resize(img_size),\n",
    "            T.Grayscale(num_output_channels=3),\n",
    "            T.GaussianBlur(3),\n",
    "            T.ToTensor(),\n",
    "            T.Normalize(mean, std),\n",
    "        ]),\n",
    "        \"Brightness\": T.Compose([\n",
    "            T.Resize(img_size),\n",
    "            T.Grayscale(num_output_channels=3),\n",
    "            T.ColorJitter(brightness=0.5),\n",
    "            T.ToTensor(),\n",
    "            T.Normalize(mean, std),\n",
    "        ]),\n",
    "        \"Gaussian Noise\": T.Compose([\n",
    "            T.Resize(img_size),\n",
    "            T.Grayscale(num_output_channels=3),\n",
    "            T.ToTensor(),\n",
    "            T.Lambda(lambda x: x + 0.15 * torch.randn_like(x)),\n",
    "            T.Normalize(mean, std),\n",
    "        ]),\n",
    "    }"
   ]
  },
  {
   "cell_type": "code",
   "execution_count": null,
   "id": "b4e2fffd",
   "metadata": {
    "execution": {
     "iopub.execute_input": "2025-07-21T15:07:21.444480Z",
     "iopub.status.busy": "2025-07-21T15:07:21.443713Z",
     "iopub.status.idle": "2025-07-21T15:12:52.543270Z",
     "shell.execute_reply": "2025-07-21T15:12:52.542326Z"
    },
    "papermill": {
     "duration": 331.110341,
     "end_time": "2025-07-21T15:12:52.544800",
     "exception": false,
     "start_time": "2025-07-21T15:07:21.434459",
     "status": "completed"
    },
    "tags": []
   },
   "outputs": [],
   "source": [
    "device = torch.device('cuda' if torch.cuda.is_available() else 'cpu')\n",
    "img_size = 224\n",
    "\n",
    "\n",
    "model = timm.create_model('swin_tiny_patch4_window7_224', pretrained=False)\n",
    "model.head = torch.nn.Linear(model.head.in_features, 10)\n",
    "model.load_state_dict(torch.load('/kaggle/working/Swin-Tiny_FashionMNIST.pth', map_location=device))\n",
    "model = model.to(device)\n",
    "model.eval()\n",
    "\n",
    "\n",
    "curr_transforms = make_transforms(img_size)\n",
    "results = {}\n",
    "\n",
    "for name, transform in curr_transforms.items():\n",
    "    dataset = torchvision.datasets.FashionMNIST(\n",
    "        root='./data', train=False, download=True, transform=transform)\n",
    "    testloader = torch.utils.data.DataLoader(dataset, batch_size=256, shuffle=False, num_workers=2)\n",
    "\n",
    "    def evaluate(model, dataloader):\n",
    "        model.eval()\n",
    "        correct = 0\n",
    "        total = 0\n",
    "        with torch.no_grad():\n",
    "            for images, labels in dataloader:\n",
    "                images, labels = images.to(device), labels.to(device)\n",
    "                outputs = model(images)\n",
    "                if outputs.dim() == 4:\n",
    "                    outputs = outputs.mean(dim=(1,2))\n",
    "                elif outputs.dim() == 3:\n",
    "                    outputs = outputs.mean(1)\n",
    "                _, preds = torch.max(outputs, 1)\n",
    "                correct += (preds == labels).sum().item()\n",
    "                total += labels.size(0)\n",
    "        return 100.0 * correct / total\n",
    "\n",
    "    acc = evaluate(model, testloader)\n",
    "    results[name] = acc\n",
    "    print(f\"{name}: {acc:.2f}%\")\n",
    "\n",
    "df = pd.DataFrame([results], index=['Swin-Tiny'])\n",
    "display(df.T.style.background_gradient(cmap='Blues'))"
   ]
  }
 ],
 "metadata": {
  "kaggle": {
   "accelerator": "nvidiaTeslaT4",
   "dataSources": [
    {
     "datasetId": 2243,
     "sourceId": 9243,
     "sourceType": "datasetVersion"
    },
    {
     "isSourceIdPinned": true,
     "modelId": 403595,
     "modelInstanceId": 384218,
     "sourceId": 477876,
     "sourceType": "modelInstanceVersion"
    },
    {
     "isSourceIdPinned": true,
     "modelId": 403626,
     "modelInstanceId": 384252,
     "sourceId": 477950,
     "sourceType": "modelInstanceVersion"
    }
   ],
   "dockerImageVersionId": 31090,
   "isGpuEnabled": true,
   "isInternetEnabled": true,
   "language": "python",
   "sourceType": "notebook"
  },
  "kernelspec": {
   "display_name": "Python 3",
   "language": "python",
   "name": "python3"
  },
  "language_info": {
   "codemirror_mode": {
    "name": "ipython",
    "version": 3
   },
   "file_extension": ".py",
   "mimetype": "text/x-python",
   "name": "python",
   "nbconvert_exporter": "python",
   "pygments_lexer": "ipython3",
   "version": "3.11.13"
  },
  "papermill": {
   "default_parameters": {},
   "duration": 9514.096344,
   "end_time": "2025-07-21T15:12:55.642004",
   "environment_variables": {},
   "exception": null,
   "input_path": "__notebook__.ipynb",
   "output_path": "__notebook__.ipynb",
   "parameters": {},
   "start_time": "2025-07-21T12:34:21.545660",
   "version": "2.6.0"
  },
  "widgets": {
   "application/vnd.jupyter.widget-state+json": {
    "state": {
     "0722b7e13d8d49fd9072e6dea3ca5f1f": {
      "model_module": "@jupyter-widgets/controls",
      "model_module_version": "2.0.0",
      "model_name": "HTMLStyleModel",
      "state": {
       "_model_module": "@jupyter-widgets/controls",
       "_model_module_version": "2.0.0",
       "_model_name": "HTMLStyleModel",
       "_view_count": null,
       "_view_module": "@jupyter-widgets/base",
       "_view_module_version": "2.0.0",
       "_view_name": "StyleView",
       "background": null,
       "description_width": "",
       "font_size": null,
       "text_color": null
      }
     },
     "0911452cc4374da7a828ab88133bdb0b": {
      "model_module": "@jupyter-widgets/controls",
      "model_module_version": "2.0.0",
      "model_name": "HBoxModel",
      "state": {
       "_dom_classes": [],
       "_model_module": "@jupyter-widgets/controls",
       "_model_module_version": "2.0.0",
       "_model_name": "HBoxModel",
       "_view_count": null,
       "_view_module": "@jupyter-widgets/controls",
       "_view_module_version": "2.0.0",
       "_view_name": "HBoxView",
       "box_style": "",
       "children": [
        "IPY_MODEL_4da6df8b2d5b441e8a3ba91223c61140",
        "IPY_MODEL_8429e8e2ef0c454e8048fae169db68bf",
        "IPY_MODEL_c618467900a04a4a906ae1599fbe7c77"
       ],
       "layout": "IPY_MODEL_8d47bcb58968450fb1a9b427d813672b",
       "tabbable": null,
       "tooltip": null
      }
     },
     "4da6df8b2d5b441e8a3ba91223c61140": {
      "model_module": "@jupyter-widgets/controls",
      "model_module_version": "2.0.0",
      "model_name": "HTMLModel",
      "state": {
       "_dom_classes": [],
       "_model_module": "@jupyter-widgets/controls",
       "_model_module_version": "2.0.0",
       "_model_name": "HTMLModel",
       "_view_count": null,
       "_view_module": "@jupyter-widgets/controls",
       "_view_module_version": "2.0.0",
       "_view_name": "HTMLView",
       "description": "",
       "description_allow_html": false,
       "layout": "IPY_MODEL_dfa36f33068d4985a1d05e614a79b6cd",
       "placeholder": "​",
       "style": "IPY_MODEL_af26d8c08def41509b255ec3403f2d84",
       "tabbable": null,
       "tooltip": null,
       "value": "model.safetensors: 100%"
      }
     },
     "8429e8e2ef0c454e8048fae169db68bf": {
      "model_module": "@jupyter-widgets/controls",
      "model_module_version": "2.0.0",
      "model_name": "FloatProgressModel",
      "state": {
       "_dom_classes": [],
       "_model_module": "@jupyter-widgets/controls",
       "_model_module_version": "2.0.0",
       "_model_name": "FloatProgressModel",
       "_view_count": null,
       "_view_module": "@jupyter-widgets/controls",
       "_view_module_version": "2.0.0",
       "_view_name": "ProgressView",
       "bar_style": "success",
       "description": "",
       "description_allow_html": false,
       "layout": "IPY_MODEL_c7195440971e44ca95697c0f12fc62fa",
       "max": 114286722,
       "min": 0,
       "orientation": "horizontal",
       "style": "IPY_MODEL_8aed938ecc694ad3abf05aa64b996b22",
       "tabbable": null,
       "tooltip": null,
       "value": 114286722
      }
     },
     "8aed938ecc694ad3abf05aa64b996b22": {
      "model_module": "@jupyter-widgets/controls",
      "model_module_version": "2.0.0",
      "model_name": "ProgressStyleModel",
      "state": {
       "_model_module": "@jupyter-widgets/controls",
       "_model_module_version": "2.0.0",
       "_model_name": "ProgressStyleModel",
       "_view_count": null,
       "_view_module": "@jupyter-widgets/base",
       "_view_module_version": "2.0.0",
       "_view_name": "StyleView",
       "bar_color": null,
       "description_width": ""
      }
     },
     "8d47bcb58968450fb1a9b427d813672b": {
      "model_module": "@jupyter-widgets/base",
      "model_module_version": "2.0.0",
      "model_name": "LayoutModel",
      "state": {
       "_model_module": "@jupyter-widgets/base",
       "_model_module_version": "2.0.0",
       "_model_name": "LayoutModel",
       "_view_count": null,
       "_view_module": "@jupyter-widgets/base",
       "_view_module_version": "2.0.0",
       "_view_name": "LayoutView",
       "align_content": null,
       "align_items": null,
       "align_self": null,
       "border_bottom": null,
       "border_left": null,
       "border_right": null,
       "border_top": null,
       "bottom": null,
       "display": null,
       "flex": null,
       "flex_flow": null,
       "grid_area": null,
       "grid_auto_columns": null,
       "grid_auto_flow": null,
       "grid_auto_rows": null,
       "grid_column": null,
       "grid_gap": null,
       "grid_row": null,
       "grid_template_areas": null,
       "grid_template_columns": null,
       "grid_template_rows": null,
       "height": null,
       "justify_content": null,
       "justify_items": null,
       "left": null,
       "margin": null,
       "max_height": null,
       "max_width": null,
       "min_height": null,
       "min_width": null,
       "object_fit": null,
       "object_position": null,
       "order": null,
       "overflow": null,
       "padding": null,
       "right": null,
       "top": null,
       "visibility": null,
       "width": null
      }
     },
     "af26d8c08def41509b255ec3403f2d84": {
      "model_module": "@jupyter-widgets/controls",
      "model_module_version": "2.0.0",
      "model_name": "HTMLStyleModel",
      "state": {
       "_model_module": "@jupyter-widgets/controls",
       "_model_module_version": "2.0.0",
       "_model_name": "HTMLStyleModel",
       "_view_count": null,
       "_view_module": "@jupyter-widgets/base",
       "_view_module_version": "2.0.0",
       "_view_name": "StyleView",
       "background": null,
       "description_width": "",
       "font_size": null,
       "text_color": null
      }
     },
     "b4abe06efe0c4b2582ab008a5607eacc": {
      "model_module": "@jupyter-widgets/base",
      "model_module_version": "2.0.0",
      "model_name": "LayoutModel",
      "state": {
       "_model_module": "@jupyter-widgets/base",
       "_model_module_version": "2.0.0",
       "_model_name": "LayoutModel",
       "_view_count": null,
       "_view_module": "@jupyter-widgets/base",
       "_view_module_version": "2.0.0",
       "_view_name": "LayoutView",
       "align_content": null,
       "align_items": null,
       "align_self": null,
       "border_bottom": null,
       "border_left": null,
       "border_right": null,
       "border_top": null,
       "bottom": null,
       "display": null,
       "flex": null,
       "flex_flow": null,
       "grid_area": null,
       "grid_auto_columns": null,
       "grid_auto_flow": null,
       "grid_auto_rows": null,
       "grid_column": null,
       "grid_gap": null,
       "grid_row": null,
       "grid_template_areas": null,
       "grid_template_columns": null,
       "grid_template_rows": null,
       "height": null,
       "justify_content": null,
       "justify_items": null,
       "left": null,
       "margin": null,
       "max_height": null,
       "max_width": null,
       "min_height": null,
       "min_width": null,
       "object_fit": null,
       "object_position": null,
       "order": null,
       "overflow": null,
       "padding": null,
       "right": null,
       "top": null,
       "visibility": null,
       "width": null
      }
     },
     "c618467900a04a4a906ae1599fbe7c77": {
      "model_module": "@jupyter-widgets/controls",
      "model_module_version": "2.0.0",
      "model_name": "HTMLModel",
      "state": {
       "_dom_classes": [],
       "_model_module": "@jupyter-widgets/controls",
       "_model_module_version": "2.0.0",
       "_model_name": "HTMLModel",
       "_view_count": null,
       "_view_module": "@jupyter-widgets/controls",
       "_view_module_version": "2.0.0",
       "_view_name": "HTMLView",
       "description": "",
       "description_allow_html": false,
       "layout": "IPY_MODEL_b4abe06efe0c4b2582ab008a5607eacc",
       "placeholder": "​",
       "style": "IPY_MODEL_0722b7e13d8d49fd9072e6dea3ca5f1f",
       "tabbable": null,
       "tooltip": null,
       "value": " 114M/114M [00:00&lt;00:00, 209MB/s]"
      }
     },
     "c7195440971e44ca95697c0f12fc62fa": {
      "model_module": "@jupyter-widgets/base",
      "model_module_version": "2.0.0",
      "model_name": "LayoutModel",
      "state": {
       "_model_module": "@jupyter-widgets/base",
       "_model_module_version": "2.0.0",
       "_model_name": "LayoutModel",
       "_view_count": null,
       "_view_module": "@jupyter-widgets/base",
       "_view_module_version": "2.0.0",
       "_view_name": "LayoutView",
       "align_content": null,
       "align_items": null,
       "align_self": null,
       "border_bottom": null,
       "border_left": null,
       "border_right": null,
       "border_top": null,
       "bottom": null,
       "display": null,
       "flex": null,
       "flex_flow": null,
       "grid_area": null,
       "grid_auto_columns": null,
       "grid_auto_flow": null,
       "grid_auto_rows": null,
       "grid_column": null,
       "grid_gap": null,
       "grid_row": null,
       "grid_template_areas": null,
       "grid_template_columns": null,
       "grid_template_rows": null,
       "height": null,
       "justify_content": null,
       "justify_items": null,
       "left": null,
       "margin": null,
       "max_height": null,
       "max_width": null,
       "min_height": null,
       "min_width": null,
       "object_fit": null,
       "object_position": null,
       "order": null,
       "overflow": null,
       "padding": null,
       "right": null,
       "top": null,
       "visibility": null,
       "width": null
      }
     },
     "dfa36f33068d4985a1d05e614a79b6cd": {
      "model_module": "@jupyter-widgets/base",
      "model_module_version": "2.0.0",
      "model_name": "LayoutModel",
      "state": {
       "_model_module": "@jupyter-widgets/base",
       "_model_module_version": "2.0.0",
       "_model_name": "LayoutModel",
       "_view_count": null,
       "_view_module": "@jupyter-widgets/base",
       "_view_module_version": "2.0.0",
       "_view_name": "LayoutView",
       "align_content": null,
       "align_items": null,
       "align_self": null,
       "border_bottom": null,
       "border_left": null,
       "border_right": null,
       "border_top": null,
       "bottom": null,
       "display": null,
       "flex": null,
       "flex_flow": null,
       "grid_area": null,
       "grid_auto_columns": null,
       "grid_auto_flow": null,
       "grid_auto_rows": null,
       "grid_column": null,
       "grid_gap": null,
       "grid_row": null,
       "grid_template_areas": null,
       "grid_template_columns": null,
       "grid_template_rows": null,
       "height": null,
       "justify_content": null,
       "justify_items": null,
       "left": null,
       "margin": null,
       "max_height": null,
       "max_width": null,
       "min_height": null,
       "min_width": null,
       "object_fit": null,
       "object_position": null,
       "order": null,
       "overflow": null,
       "padding": null,
       "right": null,
       "top": null,
       "visibility": null,
       "width": null
      }
     }
    },
    "version_major": 2,
    "version_minor": 0
   }
  }
 },
 "nbformat": 4,
 "nbformat_minor": 5
}
