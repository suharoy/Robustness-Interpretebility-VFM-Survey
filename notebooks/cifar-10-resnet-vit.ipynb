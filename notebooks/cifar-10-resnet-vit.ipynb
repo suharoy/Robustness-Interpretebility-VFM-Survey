{
 "cells": [
  {
   "cell_type": "markdown",
   "metadata": {},
   "source": [
    "# CIFAR-10 Robustness and Explainability Benchmark\n",
    "This notebook benchmarks ResNet-18, ViT Transformer on CIFAR-10 under various corruptions.  "
   ]
  },
  {
   "cell_type": "markdown",
   "metadata": {},
   "source": [
    "# Imports and Installation"
   ]
  },
  {
   "cell_type": "code",
   "execution_count": null,
   "metadata": {
    "execution": {
     "iopub.execute_input": "2025-07-17T15:56:20.971045Z",
     "iopub.status.busy": "2025-07-17T15:56:20.970760Z",
     "iopub.status.idle": "2025-07-17T15:57:37.277578Z",
     "shell.execute_reply": "2025-07-17T15:57:37.276505Z",
     "shell.execute_reply.started": "2025-07-17T15:56:20.971017Z"
    },
    "trusted": true
   },
   "outputs": [],
   "source": [
    "!pip install timm torchcam --quiet"
   ]
  },
  {
   "cell_type": "code",
   "execution_count": null,
   "metadata": {
    "execution": {
     "iopub.execute_input": "2025-07-17T15:57:37.279044Z",
     "iopub.status.busy": "2025-07-17T15:57:37.278670Z",
     "iopub.status.idle": "2025-07-17T15:57:50.535264Z",
     "shell.execute_reply": "2025-07-17T15:57:50.534371Z",
     "shell.execute_reply.started": "2025-07-17T15:57:37.279007Z"
    },
    "trusted": true
   },
   "outputs": [],
   "source": [
    "import torch\n",
    "import torch.nn as nn\n",
    "import torchvision\n",
    "import torchvision.transforms as T\n",
    "import torch.optim as optim\n",
    "import numpy as np\n",
    "import pandas as pd\n",
    "import matplotlib.pyplot as plt\n",
    "from tqdm import tqdm\n",
    "import timm\n",
    "from torchcam.methods import SmoothGradCAMpp  # for ViT and ResNet"
   ]
  },
  {
   "cell_type": "code",
   "execution_count": null,
   "metadata": {
    "execution": {
     "iopub.execute_input": "2025-07-17T15:57:50.537494Z",
     "iopub.status.busy": "2025-07-17T15:57:50.537200Z",
     "iopub.status.idle": "2025-07-17T15:57:50.638714Z",
     "shell.execute_reply": "2025-07-17T15:57:50.637841Z",
     "shell.execute_reply.started": "2025-07-17T15:57:50.537471Z"
    },
    "trusted": true
   },
   "outputs": [],
   "source": [
    "device = torch.device('cuda' if torch.cuda.is_available() else 'cpu')\n",
    "mean = (0.4914, 0.4822, 0.4465)\n",
    "std = (0.2023, 0.1994, 0.2010)"
   ]
  },
  {
   "cell_type": "markdown",
   "metadata": {},
   "source": [
    "# CIFAR10 Classes and Sample Images"
   ]
  },
  {
   "cell_type": "code",
   "execution_count": null,
   "metadata": {
    "execution": {
     "iopub.execute_input": "2025-07-17T15:57:50.639876Z",
     "iopub.status.busy": "2025-07-17T15:57:50.639593Z",
     "iopub.status.idle": "2025-07-17T15:57:57.162169Z",
     "shell.execute_reply": "2025-07-17T15:57:57.161457Z",
     "shell.execute_reply.started": "2025-07-17T15:57:50.639853Z"
    },
    "trusted": true
   },
   "outputs": [],
   "source": [
    "trainset = torchvision.datasets.CIFAR10(root='./data', train=True, download=True)\n",
    "print(\"CIFAR-10 classes:\", trainset.classes)\n",
    "plt.figure(figsize=(8,2))\n",
    "for i in range(6):\n",
    "    img, label = trainset[i]\n",
    "    plt.subplot(1,6,i+1)\n",
    "    plt.imshow(img)\n",
    "    plt.title(trainset.classes[label])\n",
    "    plt.axis('off')\n",
    "plt.show()"
   ]
  },
  {
   "cell_type": "markdown",
   "metadata": {},
   "source": [
    "# Defining the Transforms\n",
    "\n",
    "* clean\n",
    "* horizontal flip\n",
    "* rotation\n",
    "* blur\n",
    "* brightness\n",
    "* gaussian noise"
   ]
  },
  {
   "cell_type": "code",
   "execution_count": null,
   "metadata": {
    "execution": {
     "iopub.execute_input": "2025-07-17T15:57:57.163240Z",
     "iopub.status.busy": "2025-07-17T15:57:57.162991Z",
     "iopub.status.idle": "2025-07-17T15:57:57.170888Z",
     "shell.execute_reply": "2025-07-17T15:57:57.170279Z",
     "shell.execute_reply.started": "2025-07-17T15:57:57.163223Z"
    },
    "trusted": true
   },
   "outputs": [],
   "source": [
    "# For training (with data augmentation)\n",
    "def make_train_transform(img_size):\n",
    "    return T.Compose([\n",
    "        T.Resize(img_size),\n",
    "        T.RandomHorizontalFlip(),\n",
    "        T.RandomCrop(img_size, padding=4),\n",
    "        T.ToTensor(),\n",
    "        T.Normalize(mean, std)\n",
    "    ])\n",
    "\n",
    "# For testing and robustness evaluation\n",
    "class AddGaussianNoise(object):\n",
    "    def __init__(self, mean=0., std=0.1):\n",
    "        self.mean = mean\n",
    "        self.std = std\n",
    "    def __call__(self, tensor):\n",
    "        return tensor + torch.randn_like(tensor) * self.std + self.mean\n",
    "\n",
    "def make_transforms(img_size):\n",
    "    return {\n",
    "        'Clean': T.Compose([T.Resize(img_size), T.ToTensor(), T.Normalize(mean, std)]),\n",
    "        'Horizontal Flip': T.Compose([T.Resize(img_size), T.RandomHorizontalFlip(1.0), T.ToTensor(), T.Normalize(mean, std)]),\n",
    "        'Rotation': T.Compose([T.Resize(img_size), T.RandomRotation(30), T.ToTensor(), T.Normalize(mean, std)]),\n",
    "        'Blur': T.Compose([T.Resize(img_size), T.GaussianBlur(3), T.ToTensor(), T.Normalize(mean, std)]),\n",
    "        'Brightness': T.Compose([T.Resize(img_size), T.ColorJitter(brightness=0.5), T.ToTensor(), T.Normalize(mean, std)]),\n",
    "        'Gaussian Noise': T.Compose([T.Resize(img_size), T.ToTensor(), AddGaussianNoise(0., 0.15), T.Normalize(mean, std)]),\n",
    "    }"
   ]
  },
  {
   "cell_type": "markdown",
   "metadata": {},
   "source": [
    "# Training and Evaluation Functions"
   ]
  },
  {
   "cell_type": "code",
   "execution_count": null,
   "metadata": {
    "execution": {
     "iopub.execute_input": "2025-07-17T15:57:57.171691Z",
     "iopub.status.busy": "2025-07-17T15:57:57.171507Z",
     "iopub.status.idle": "2025-07-17T15:57:57.185040Z",
     "shell.execute_reply": "2025-07-17T15:57:57.184193Z",
     "shell.execute_reply.started": "2025-07-17T15:57:57.171675Z"
    },
    "trusted": true
   },
   "outputs": [],
   "source": [
    "def train_one_epoch(model, loader, criterion, optimizer, device):\n",
    "    model.train()\n",
    "    running_loss = 0.0\n",
    "    correct = 0\n",
    "    total = 0\n",
    "    for images, labels in tqdm(loader):\n",
    "        images, labels = images.to(device), labels.to(device)\n",
    "        optimizer.zero_grad()\n",
    "        outputs = model(images)\n",
    "        if outputs.dim() == 3:\n",
    "            outputs = outputs.mean(1)\n",
    "        loss = criterion(outputs, labels)\n",
    "        loss.backward()\n",
    "        optimizer.step()\n",
    "        running_loss += loss.item() * images.size(0)\n",
    "        _, preds = torch.max(outputs, 1)\n",
    "        correct += (preds == labels).sum().item()\n",
    "        total += labels.size(0)\n",
    "    return running_loss / total, 100.0 * correct / total\n",
    "\n",
    "def evaluate(model, dataloader):\n",
    "    model.eval()\n",
    "    correct = 0\n",
    "    total = 0\n",
    "    with torch.no_grad():\n",
    "        for images, labels in dataloader:\n",
    "            images, labels = images.to(device), labels.to(device)\n",
    "            outputs = model(images)\n",
    "            if outputs.dim() == 3:\n",
    "                outputs = outputs.mean(1)\n",
    "            _, preds = torch.max(outputs, 1)\n",
    "            correct += (preds == labels).sum().item()\n",
    "            total += labels.size(0)\n",
    "    return 100.0 * correct / total"
   ]
  },
  {
   "cell_type": "markdown",
   "metadata": {},
   "source": [
    "# Defining the Models"
   ]
  },
  {
   "cell_type": "code",
   "execution_count": null,
   "metadata": {
    "execution": {
     "iopub.execute_input": "2025-07-17T15:57:57.186019Z",
     "iopub.status.busy": "2025-07-17T15:57:57.185768Z",
     "iopub.status.idle": "2025-07-17T15:57:57.198888Z",
     "shell.execute_reply": "2025-07-17T15:57:57.198088Z",
     "shell.execute_reply.started": "2025-07-17T15:57:57.185992Z"
    },
    "trusted": true
   },
   "outputs": [],
   "source": [
    "models = [\n",
    "    ('ResNet-18', lambda: torchvision.models.resnet18(weights='IMAGENET1K_V1'), 32),\n",
    "    ('ViT-Small', lambda: timm.create_model('vit_small_patch16_224', pretrained=True), 224),\n",
    "]\n",
    "\n",
    "def adjust_model(model):\n",
    "    if hasattr(model, 'fc'):  # ResNet\n",
    "        model.fc = nn.Linear(model.fc.in_features, 10)\n",
    "    elif hasattr(model, 'head'):  # ViT\n",
    "        model.head = nn.Linear(model.head.in_features, 10)\n",
    "    return model"
   ]
  },
  {
   "cell_type": "markdown",
   "metadata": {},
   "source": [
    "# Training Loop for ResNet18 and ViT Models"
   ]
  },
  {
   "cell_type": "code",
   "execution_count": null,
   "metadata": {
    "execution": {
     "iopub.execute_input": "2025-07-17T15:57:57.199905Z",
     "iopub.status.busy": "2025-07-17T15:57:57.199692Z",
     "iopub.status.idle": "2025-07-17T17:31:45.995507Z",
     "shell.execute_reply": "2025-07-17T17:31:45.994536Z",
     "shell.execute_reply.started": "2025-07-17T15:57:57.199881Z"
    },
    "trusted": true
   },
   "outputs": [],
   "source": [
    "epochs = 10    \n",
    "batch_size = 128\n",
    "\n",
    "for model_name, model_func, img_size in models:\n",
    "    print(f\"\\n=== Training {model_name} on CIFAR-10 ===\")\n",
    "    model = model_func()\n",
    "    model = adjust_model(model)\n",
    "    model = model.to(device)\n",
    "\n",
    "    # Datasets and loaders\n",
    "    trainset = torchvision.datasets.CIFAR10(root='./data', train=True, download=True, transform=make_train_transform(img_size))\n",
    "    trainloader = torch.utils.data.DataLoader(trainset, batch_size=batch_size, shuffle=True, num_workers=2)\n",
    "    testset = torchvision.datasets.CIFAR10(root='./data', train=False, download=True, transform=make_transforms(img_size)['Clean'])\n",
    "    testloader = torch.utils.data.DataLoader(testset, batch_size=256, shuffle=False, num_workers=2)\n",
    "\n",
    "    criterion = nn.CrossEntropyLoss()\n",
    "    optimizer = optim.Adam(model.parameters(), lr=0.001)\n",
    "\n",
    "    for epoch in range(epochs):\n",
    "        train_loss, train_acc = train_one_epoch(model, trainloader, criterion, optimizer, device)\n",
    "        test_acc = evaluate(model, testloader)\n",
    "        print(f\"Epoch {epoch+1}/{epochs} - Train Acc: {train_acc:.2f}% - Test Acc: {test_acc:.2f}%\")\n",
    "    \n",
    "    torch.save(model.state_dict(), f\"{model_name}_cifar10.pth\")\n",
    "    print(f\"Saved {model_name} trained weights.\\n\")"
   ]
  },
  {
   "cell_type": "markdown",
   "metadata": {},
   "source": [
    "# Robustness Benchmarking"
   ]
  },
  {
   "cell_type": "code",
   "execution_count": null,
   "metadata": {
    "execution": {
     "iopub.execute_input": "2025-07-17T17:35:43.605033Z",
     "iopub.status.busy": "2025-07-17T17:35:43.604734Z",
     "iopub.status.idle": "2025-07-17T17:39:53.728548Z",
     "shell.execute_reply": "2025-07-17T17:39:53.727764Z",
     "shell.execute_reply.started": "2025-07-17T17:35:43.605014Z"
    },
    "trusted": true
   },
   "outputs": [],
   "source": [
    "import pandas as pd\n",
    "\n",
    "models = [\n",
    "    ('ResNet-18', lambda: torchvision.models.resnet18(weights=None), 32),\n",
    "    ('ViT-Small', lambda: timm.create_model('vit_small_patch16_224', pretrained=False), 224),\n",
    "]\n",
    "\n",
    "model_paths = {\n",
    "    \"ResNet-18\": \"/kaggle/input/resnet18_cifar10/pytorch/default/1/ResNet-18_cifar10.pth\",\n",
    "    \"ViT-Small\": \"/kaggle/input/vit-cifar10/pytorch/default/1/ViT-Small_cifar10.pth\"\n",
    "}\n",
    "\n",
    "results = []\n",
    "\n",
    "for model_name, model_func, img_size in models:\n",
    "    print(f\"\\nEvaluating {model_name} robustness (input size {img_size})...\")\n",
    "    model = model_func()\n",
    "    model = adjust_model(model)\n",
    "    state_dict = torch.load(model_paths[model_name], map_location=device)\n",
    "    model.load_state_dict(state_dict)\n",
    "    model = model.to(device)\n",
    "    model.eval()\n",
    "    curr_transforms = make_transforms(img_size)  \n",
    "    testloaders = {}\n",
    "    for name, transform in curr_transforms.items():\n",
    "        dataset = torchvision.datasets.CIFAR10(root='./data', train=False, download=True, transform=transform)\n",
    "        testloaders[name] = torch.utils.data.DataLoader(dataset, batch_size=256, shuffle=False, num_workers=2)\n",
    "    model_results = {'Model': model_name}\n",
    "    for corr_name, loader in testloaders.items():\n",
    "        acc = evaluate(model, loader)\n",
    "        model_results[corr_name] = acc\n",
    "        print(f\"{corr_name}: {acc:.2f}%\")\n",
    "    results.append(model_results)\n",
    "\n",
    "df = pd.DataFrame(results)\n",
    "df.set_index('Model', inplace=True)\n",
    "display(df.style.background_gradient(cmap='Blues'))"
   ]
  },
  {
   "cell_type": "code",
   "execution_count": null,
   "metadata": {
    "execution": {
     "iopub.execute_input": "2025-07-17T17:53:59.380978Z",
     "iopub.status.busy": "2025-07-17T17:53:59.377920Z",
     "iopub.status.idle": "2025-07-17T17:54:06.839914Z",
     "shell.execute_reply": "2025-07-17T17:54:06.838909Z",
     "shell.execute_reply.started": "2025-07-17T17:53:59.380935Z"
    },
    "trusted": true
   },
   "outputs": [],
   "source": [
    "import matplotlib.pyplot as plt\n",
    "import numpy as np\n",
    "import torchvision\n",
    "\n",
    "mean = (0.4914, 0.4822, 0.4465)\n",
    "std = (0.2023, 0.1994, 0.2010)\n",
    "\n",
    "# Get all transform types\n",
    "all_transforms = make_transforms(32)\n",
    "n_transforms = len(all_transforms)\n",
    "n_images = 8  # images per row\n",
    "\n",
    "plt.figure(figsize=(2*n_images, 2*n_transforms))\n",
    "\n",
    "for idx, (transform_name, transform) in enumerate(all_transforms.items()):\n",
    "    dataset = torchvision.datasets.CIFAR10(root='./data', train=False, download=True, transform=transform)\n",
    "    loader = torch.utils.data.DataLoader(dataset, batch_size=n_images, shuffle=True)\n",
    "    images, labels = next(iter(loader))\n",
    "    for j in range(n_images):\n",
    "        plt_idx = idx * n_images + j + 1\n",
    "        ax = plt.subplot(n_transforms, n_images, plt_idx)\n",
    "        img_np = images[j].cpu().numpy().transpose(1,2,0)\n",
    "        img_np = img_np * np.array(std) + np.array(mean)\n",
    "        img_np = np.clip(img_np, 0, 1)\n",
    "        ax.imshow(img_np)\n",
    "        ax.set_xticks([])\n",
    "        ax.set_yticks([])\n",
    "        if j == 0:\n",
    "            ax.set_ylabel(transform_name, fontsize=11, rotation=0, labelpad=60, va='center')\n",
    "        else:\n",
    "            ax.set_ylabel('')\n",
    "        ax.set_title(f\"{labels[j].item()}\", fontsize=8)\n",
    "plt.suptitle(\"Transforms Applied for the Images\", fontsize=14, y=1.02)\n",
    "plt.tight_layout()\n",
    "plt.show()"
   ]
  }
 ],
 "metadata": {
  "kaggle": {
   "accelerator": "none",
   "dataSources": [],
   "dockerImageVersionId": 31089,
   "isGpuEnabled": false,
   "isInternetEnabled": true,
   "language": "python",
   "sourceType": "notebook"
  },
  "kernelspec": {
   "display_name": "Python 3",
   "language": "python",
   "name": "python3"
  },
  "language_info": {
   "codemirror_mode": {
    "name": "ipython",
    "version": 3
   },
   "file_extension": ".py",
   "mimetype": "text/x-python",
   "name": "python",
   "nbconvert_exporter": "python",
   "pygments_lexer": "ipython3",
   "version": "3.11.13"
  }
 },
 "nbformat": 4,
 "nbformat_minor": 4
}
