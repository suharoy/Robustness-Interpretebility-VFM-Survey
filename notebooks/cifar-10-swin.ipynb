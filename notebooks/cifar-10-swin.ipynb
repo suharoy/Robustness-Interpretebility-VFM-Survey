{
 "cells": [
  {
   "cell_type": "markdown",
   "id": "4154808e",
   "metadata": {
    "papermill": {
     "duration": 0.002918,
     "end_time": "2025-07-22T09:09:29.489936",
     "exception": false,
     "start_time": "2025-07-22T09:09:29.487018",
     "status": "completed"
    },
    "tags": []
   },
   "source": [
    "# Imports and Libraries"
   ]
  },
  {
   "cell_type": "code",
   "execution_count": null,
   "id": "7a79bc3f",
   "metadata": {
    "execution": {
     "iopub.execute_input": "2025-07-22T09:09:29.496286Z",
     "iopub.status.busy": "2025-07-22T09:09:29.495627Z",
     "iopub.status.idle": "2025-07-22T09:09:42.495347Z",
     "shell.execute_reply": "2025-07-22T09:09:42.494543Z"
    },
    "papermill": {
     "duration": 13.004318,
     "end_time": "2025-07-22T09:09:42.496847",
     "exception": false,
     "start_time": "2025-07-22T09:09:29.492529",
     "status": "completed"
    },
    "tags": []
   },
   "outputs": [],
   "source": [
    "import torch\n",
    "import torch.nn as nn\n",
    "import torch.optim as optim\n",
    "import torchvision\n",
    "import torchvision.transforms as T\n",
    "import timm\n",
    "from tqdm import tqdm\n",
    "import pandas as pd"
   ]
  },
  {
   "cell_type": "markdown",
   "id": "afc16bf7",
   "metadata": {
    "papermill": {
     "duration": 0.002066,
     "end_time": "2025-07-22T09:09:42.501538",
     "exception": false,
     "start_time": "2025-07-22T09:09:42.499472",
     "status": "completed"
    },
    "tags": []
   },
   "source": [
    "# Model Specifications"
   ]
  },
  {
   "cell_type": "code",
   "execution_count": null,
   "id": "625f3869",
   "metadata": {
    "execution": {
     "iopub.execute_input": "2025-07-22T09:09:42.506751Z",
     "iopub.status.busy": "2025-07-22T09:09:42.506525Z",
     "iopub.status.idle": "2025-07-22T09:09:42.590293Z",
     "shell.execute_reply": "2025-07-22T09:09:42.589439Z"
    },
    "papermill": {
     "duration": 0.08814,
     "end_time": "2025-07-22T09:09:42.591919",
     "exception": false,
     "start_time": "2025-07-22T09:09:42.503779",
     "status": "completed"
    },
    "tags": []
   },
   "outputs": [],
   "source": [
    "device = torch.device('cuda' if torch.cuda.is_available() else 'cpu')\n",
    "mean = (0.4914, 0.4822, 0.4465)\n",
    "std = (0.2470, 0.2435, 0.2616)\n",
    "img_size = 224\n",
    "batch_size = 32"
   ]
  },
  {
   "cell_type": "markdown",
   "id": "f43c9aef",
   "metadata": {
    "papermill": {
     "duration": 0.00227,
     "end_time": "2025-07-22T09:09:42.596858",
     "exception": false,
     "start_time": "2025-07-22T09:09:42.594588",
     "status": "completed"
    },
    "tags": []
   },
   "source": [
    "# Transforms"
   ]
  },
  {
   "cell_type": "code",
   "execution_count": null,
   "id": "f9641fd1",
   "metadata": {
    "execution": {
     "iopub.execute_input": "2025-07-22T09:09:42.602790Z",
     "iopub.status.busy": "2025-07-22T09:09:42.602087Z",
     "iopub.status.idle": "2025-07-22T09:09:42.606572Z",
     "shell.execute_reply": "2025-07-22T09:09:42.605905Z"
    },
    "papermill": {
     "duration": 0.008501,
     "end_time": "2025-07-22T09:09:42.607645",
     "exception": false,
     "start_time": "2025-07-22T09:09:42.599144",
     "status": "completed"
    },
    "tags": []
   },
   "outputs": [],
   "source": [
    "def train_transform(img_size):\n",
    "    return T.Compose([\n",
    "        T.Resize(img_size),\n",
    "        T.RandomHorizontalFlip(),\n",
    "        T.RandomCrop(img_size, padding=4),\n",
    "        T.ToTensor(),\n",
    "        T.Normalize(mean, std)\n",
    "    ])\n",
    "def test_transform(img_size):\n",
    "    return T.Compose([T.Resize(img_size), T.ToTensor(), T.Normalize(mean, std)])\n"
   ]
  },
  {
   "cell_type": "code",
   "execution_count": null,
   "id": "8fc82519",
   "metadata": {
    "execution": {
     "iopub.execute_input": "2025-07-22T09:09:42.613056Z",
     "iopub.status.busy": "2025-07-22T09:09:42.612856Z",
     "iopub.status.idle": "2025-07-22T09:09:48.254876Z",
     "shell.execute_reply": "2025-07-22T09:09:48.254088Z"
    },
    "papermill": {
     "duration": 5.6464,
     "end_time": "2025-07-22T09:09:48.256328",
     "exception": false,
     "start_time": "2025-07-22T09:09:42.609928",
     "status": "completed"
    },
    "tags": []
   },
   "outputs": [],
   "source": [
    "trainset = torchvision.datasets.CIFAR10(root='./data', train=True, download=True, transform=train_transform(img_size))\n",
    "trainloader = torch.utils.data.DataLoader(trainset, batch_size=batch_size, shuffle=True, num_workers=2, pin_memory=True)\n",
    "testset = torchvision.datasets.CIFAR10(root='./data', train=False, download=True, transform=test_transform(img_size))\n",
    "testloader = torch.utils.data.DataLoader(testset, batch_size=32, shuffle=False, num_workers=2, pin_memory=True)"
   ]
  },
  {
   "cell_type": "code",
   "execution_count": null,
   "id": "169388c3",
   "metadata": {
    "execution": {
     "iopub.execute_input": "2025-07-22T09:09:48.264059Z",
     "iopub.status.busy": "2025-07-22T09:09:48.263786Z",
     "iopub.status.idle": "2025-07-22T09:09:49.631993Z",
     "shell.execute_reply": "2025-07-22T09:09:49.631129Z"
    },
    "papermill": {
     "duration": 1.373546,
     "end_time": "2025-07-22T09:09:49.633500",
     "exception": false,
     "start_time": "2025-07-22T09:09:48.259954",
     "status": "completed"
    },
    "tags": []
   },
   "outputs": [],
   "source": [
    "model = timm.create_model('swin_tiny_patch4_window7_224', pretrained=True)\n",
    "model.head = nn.Linear(model.head.in_features, 10)\n",
    "model = model.to(device)\n",
    "\n",
    "optimizer = optim.AdamW(model.parameters(), lr=5e-4, weight_decay=1e-4)\n",
    "scheduler = optim.lr_scheduler.StepLR(optimizer, step_size=8, gamma=0.3)\n",
    "criterion = nn.CrossEntropyLoss()\n",
    "epochs = 10"
   ]
  },
  {
   "cell_type": "markdown",
   "id": "be688be6",
   "metadata": {
    "papermill": {
     "duration": 0.003353,
     "end_time": "2025-07-22T09:09:49.640886",
     "exception": false,
     "start_time": "2025-07-22T09:09:49.637533",
     "status": "completed"
    },
    "tags": []
   },
   "source": [
    "# Training and Evaluation"
   ]
  },
  {
   "cell_type": "code",
   "execution_count": null,
   "id": "d214dc34",
   "metadata": {
    "execution": {
     "iopub.execute_input": "2025-07-22T09:09:49.648425Z",
     "iopub.status.busy": "2025-07-22T09:09:49.648207Z",
     "iopub.status.idle": "2025-07-22T09:09:49.655618Z",
     "shell.execute_reply": "2025-07-22T09:09:49.654910Z"
    },
    "papermill": {
     "duration": 0.012545,
     "end_time": "2025-07-22T09:09:49.656760",
     "exception": false,
     "start_time": "2025-07-22T09:09:49.644215",
     "status": "completed"
    },
    "tags": []
   },
   "outputs": [],
   "source": [
    "def train_one_epoch(model, loader, criterion, optimizer, device):\n",
    "    model.train()\n",
    "    running_loss = 0.0\n",
    "    correct = 0\n",
    "    total = 0\n",
    "    for images, labels in loader:\n",
    "        images, labels = images.to(device), labels.to(device)\n",
    "        optimizer.zero_grad()\n",
    "        outputs = model(images)\n",
    "        if outputs.dim() == 4:\n",
    "            outputs = outputs.mean(dim=(1, 2))\n",
    "        elif outputs.dim() == 3:\n",
    "            outputs = outputs.mean(1)  \n",
    "        loss = criterion(outputs, labels)\n",
    "        loss.backward()\n",
    "        optimizer.step()\n",
    "        _, preds = torch.max(outputs, 1)\n",
    "        correct += (preds == labels).sum().item()\n",
    "        total += labels.size(0)\n",
    "        running_loss += loss.item() * images.size(0)\n",
    "    avg_loss = running_loss / total\n",
    "    avg_acc = 100.0 * correct / total\n",
    "    return avg_loss, avg_acc\n",
    "\n",
    "def evaluate(model, loader, device):\n",
    "    model.eval()\n",
    "    correct = 0\n",
    "    total = 0\n",
    "    with torch.no_grad():\n",
    "        for images, labels in loader:\n",
    "            images, labels = images.to(device), labels.to(device)\n",
    "            outputs = model(images)\n",
    "            if outputs.dim() == 4:\n",
    "                outputs = outputs.mean(dim=(1, 2))\n",
    "            elif outputs.dim() == 3:\n",
    "                outputs = outputs.mean(1)\n",
    "            _, preds = torch.max(outputs, 1)\n",
    "            correct += (preds == labels).sum().item()\n",
    "            total += labels.size(0)\n",
    "    return 100.0 * correct / total"
   ]
  },
  {
   "cell_type": "code",
   "execution_count": null,
   "id": "c5e6b592",
   "metadata": {
    "execution": {
     "iopub.execute_input": "2025-07-22T09:09:49.664305Z",
     "iopub.status.busy": "2025-07-22T09:09:49.663766Z",
     "iopub.status.idle": "2025-07-22T11:17:47.717043Z",
     "shell.execute_reply": "2025-07-22T11:17:47.716222Z"
    },
    "papermill": {
     "duration": 7678.058236,
     "end_time": "2025-07-22T11:17:47.718359",
     "exception": false,
     "start_time": "2025-07-22T09:09:49.660123",
     "status": "completed"
    },
    "tags": []
   },
   "outputs": [],
   "source": [
    "for epoch in range(epochs):\n",
    "    train_loss, train_acc = train_one_epoch(model, trainloader, criterion, optimizer, device)\n",
    "    test_acc = evaluate(model, testloader, device)\n",
    "    print(f\"Epoch {epoch+1}/{epochs}: \"\n",
    "          f\"Train Loss: {train_loss:.4f}, \"\n",
    "          f\"Train Acc: {train_acc:.2f}%, \"\n",
    "          f\"Test Acc: {test_acc:.2f}%\")\n",
    "    scheduler.step()\n",
    "    torch.cuda.empty_cache()\n",
    "\n",
    "torch.save(model.state_dict(), \"Swin-Tiny_CIFAR10.pth\")\n",
    "print(\"Saved Swin-Tiny trained weights.\")"
   ]
  },
  {
   "cell_type": "markdown",
   "id": "13a3195d",
   "metadata": {
    "papermill": {
     "duration": 0.003571,
     "end_time": "2025-07-22T11:17:47.725822",
     "exception": false,
     "start_time": "2025-07-22T11:17:47.722251",
     "status": "completed"
    },
    "tags": []
   },
   "source": [
    "# Robustness Check "
   ]
  },
  {
   "cell_type": "code",
   "execution_count": null,
   "id": "a5c4532f",
   "metadata": {},
   "outputs": [],
   "source": [
    "from torchvision import transforms as T\n",
    "\n",
    "def make_transforms(img_size):\n",
    "    mean = (0.4914, 0.4822, 0.4465)\n",
    "    std = (0.2023, 0.1994, 0.2010)  \n",
    "    return {\n",
    "        \"Clean\": T.Compose([\n",
    "            T.Resize(img_size),\n",
    "            T.Grayscale(num_output_channels=3),\n",
    "            T.ToTensor(),\n",
    "            T.Normalize(mean, std),\n",
    "        ]),\n",
    "        \"Horizontal Flip\": T.Compose([\n",
    "            T.Resize(img_size),\n",
    "            T.Grayscale(num_output_channels=3),\n",
    "            T.RandomHorizontalFlip(p=1.0),\n",
    "            T.ToTensor(),\n",
    "            T.Normalize(mean, std),\n",
    "        ]),\n",
    "        \"Rotation\": T.Compose([\n",
    "            T.Resize(img_size),\n",
    "            T.Grayscale(num_output_channels=3),\n",
    "            T.RandomRotation(30),\n",
    "            T.ToTensor(),\n",
    "            T.Normalize(mean, std),\n",
    "        ]),\n",
    "        \"Blur\": T.Compose([\n",
    "            T.Resize(img_size),\n",
    "            T.Grayscale(num_output_channels=3),\n",
    "            T.GaussianBlur(3),\n",
    "            T.ToTensor(),\n",
    "            T.Normalize(mean, std),\n",
    "        ]),\n",
    "        \"Brightness\": T.Compose([\n",
    "            T.Resize(img_size),\n",
    "            T.Grayscale(num_output_channels=3),\n",
    "            T.ColorJitter(brightness=0.5),\n",
    "            T.ToTensor(),\n",
    "            T.Normalize(mean, std),\n",
    "        ]),\n",
    "        \"Gaussian Noise\": T.Compose([\n",
    "            T.Resize(img_size),\n",
    "            T.Grayscale(num_output_channels=3),\n",
    "            T.ToTensor(),\n",
    "            T.Lambda(lambda x: x + 0.15 * torch.randn_like(x)),\n",
    "            T.Normalize(mean, std),\n",
    "        ]),\n",
    "    }"
   ]
  },
  {
   "cell_type": "code",
   "execution_count": null,
   "id": "a5c4635d",
   "metadata": {
    "execution": {
     "iopub.execute_input": "2025-07-22T11:17:47.748355Z",
     "iopub.status.busy": "2025-07-22T11:17:47.748146Z",
     "iopub.status.idle": "2025-07-22T11:17:51.858082Z",
     "shell.execute_reply": "2025-07-22T11:17:51.857110Z"
    },
    "papermill": {
     "duration": 4.115274,
     "end_time": "2025-07-22T11:17:51.859255",
     "exception": true,
     "start_time": "2025-07-22T11:17:47.743981",
     "status": "failed"
    },
    "tags": []
   },
   "outputs": [],
   "source": [
    "device = torch.device('cuda' if torch.cuda.is_available() else 'cpu')\n",
    "img_size = 224\n",
    "\n",
    "\n",
    "model = timm.create_model('swin_tiny_patch4_window7_224', pretrained=False)\n",
    "model.head = torch.nn.Linear(model.head.in_features, 10)\n",
    "model.load_state_dict(torch.load('/kaggle/input/swin-tiny-cifar-10/pytorch/default/1/Swin-Tiny_CIFAR10.pth', map_location=device))\n",
    "model = model.to(device)\n",
    "model.eval()\n",
    "\n",
    "\n",
    "curr_transforms = make_transforms(img_size)\n",
    "results = {}\n",
    "for name, transform in curr_transforms.items():\n",
    "    dataset = torchvision.datasets.CIFAR10(\n",
    "        root='./data', train=False, download=True, transform=transform)\n",
    "    testloader = torch.utils.data.DataLoader(dataset, batch_size=256, shuffle=False, num_workers=2)\n",
    "\n",
    "    def evaluate(model, dataloader):\n",
    "        model.eval()\n",
    "        correct = 0\n",
    "        total = 0\n",
    "        with torch.no_grad():\n",
    "            for images, labels in dataloader:\n",
    "                images, labels = images.to(device), labels.to(device)\n",
    "                outputs = model(images)\n",
    "                if outputs.dim() == 4:\n",
    "                    outputs = outputs.mean(dim=(1,2))\n",
    "                elif outputs.dim() == 3:\n",
    "                    outputs = outputs.mean(1)\n",
    "                _, preds = torch.max(outputs, 1)\n",
    "                correct += (preds == labels).sum().item()\n",
    "                total += labels.size(0)\n",
    "        return 100.0 * correct / total\n",
    "\n",
    "    acc = evaluate(model, testloader)\n",
    "    results[name] = acc\n",
    "    print(f\"{name}: {acc:.2f}%\")\n",
    "\n",
    "df = pd.DataFrame([results], index=['Swin-Tiny'])\n",
    "display(df.T.style.background_gradient(cmap='Blues'))"
   ]
  }
 ],
 "metadata": {
  "kaggle": {
   "accelerator": "nvidiaTeslaT4",
   "dataSources": [
    {
     "datasetId": 366471,
     "sourceId": 714968,
     "sourceType": "datasetVersion"
    },
    {
     "isSourceIdPinned": true,
     "modelId": 405866,
     "modelInstanceId": 386754,
     "sourceId": 483756,
     "sourceType": "modelInstanceVersion"
    }
   ],
   "dockerImageVersionId": 31089,
   "isGpuEnabled": true,
   "isInternetEnabled": true,
   "language": "python",
   "sourceType": "notebook"
  },
  "kernelspec": {
   "display_name": "Python 3",
   "language": "python",
   "name": "python3"
  },
  "language_info": {
   "codemirror_mode": {
    "name": "ipython",
    "version": 3
   },
   "file_extension": ".py",
   "mimetype": "text/x-python",
   "name": "python",
   "nbconvert_exporter": "python",
   "pygments_lexer": "ipython3",
   "version": "3.11.13"
  },
  "papermill": {
   "default_parameters": {},
   "duration": 7709.052417,
   "end_time": "2025-07-22T11:17:54.380507",
   "environment_variables": {},
   "exception": true,
   "input_path": "__notebook__.ipynb",
   "output_path": "__notebook__.ipynb",
   "parameters": {},
   "start_time": "2025-07-22T09:09:25.328090",
   "version": "2.6.0"
  },
  "widgets": {
   "application/vnd.jupyter.widget-state+json": {
    "state": {
     "0473742a534245dfba1feba74c3982ad": {
      "model_module": "@jupyter-widgets/controls",
      "model_module_version": "2.0.0",
      "model_name": "HTMLModel",
      "state": {
       "_dom_classes": [],
       "_model_module": "@jupyter-widgets/controls",
       "_model_module_version": "2.0.0",
       "_model_name": "HTMLModel",
       "_view_count": null,
       "_view_module": "@jupyter-widgets/controls",
       "_view_module_version": "2.0.0",
       "_view_name": "HTMLView",
       "description": "",
       "description_allow_html": false,
       "layout": "IPY_MODEL_797fd57585534577b12429af1b9d4c8a",
       "placeholder": "​",
       "style": "IPY_MODEL_102ee7ee359747b1878a48db8e708ce2",
       "tabbable": null,
       "tooltip": null,
       "value": "model.safetensors: 100%"
      }
     },
     "102ee7ee359747b1878a48db8e708ce2": {
      "model_module": "@jupyter-widgets/controls",
      "model_module_version": "2.0.0",
      "model_name": "HTMLStyleModel",
      "state": {
       "_model_module": "@jupyter-widgets/controls",
       "_model_module_version": "2.0.0",
       "_model_name": "HTMLStyleModel",
       "_view_count": null,
       "_view_module": "@jupyter-widgets/base",
       "_view_module_version": "2.0.0",
       "_view_name": "StyleView",
       "background": null,
       "description_width": "",
       "font_size": null,
       "text_color": null
      }
     },
     "31713c9f4f63427299580e721fed4701": {
      "model_module": "@jupyter-widgets/controls",
      "model_module_version": "2.0.0",
      "model_name": "FloatProgressModel",
      "state": {
       "_dom_classes": [],
       "_model_module": "@jupyter-widgets/controls",
       "_model_module_version": "2.0.0",
       "_model_name": "FloatProgressModel",
       "_view_count": null,
       "_view_module": "@jupyter-widgets/controls",
       "_view_module_version": "2.0.0",
       "_view_name": "ProgressView",
       "bar_style": "success",
       "description": "",
       "description_allow_html": false,
       "layout": "IPY_MODEL_59a5b937d47943e797d17083a0eebd12",
       "max": 114286722,
       "min": 0,
       "orientation": "horizontal",
       "style": "IPY_MODEL_62146e80be0a41859df7e7f5c2cbc917",
       "tabbable": null,
       "tooltip": null,
       "value": 114286722
      }
     },
     "3b14e55366f44ed4b01848d28b70bb30": {
      "model_module": "@jupyter-widgets/controls",
      "model_module_version": "2.0.0",
      "model_name": "HTMLStyleModel",
      "state": {
       "_model_module": "@jupyter-widgets/controls",
       "_model_module_version": "2.0.0",
       "_model_name": "HTMLStyleModel",
       "_view_count": null,
       "_view_module": "@jupyter-widgets/base",
       "_view_module_version": "2.0.0",
       "_view_name": "StyleView",
       "background": null,
       "description_width": "",
       "font_size": null,
       "text_color": null
      }
     },
     "59a5b937d47943e797d17083a0eebd12": {
      "model_module": "@jupyter-widgets/base",
      "model_module_version": "2.0.0",
      "model_name": "LayoutModel",
      "state": {
       "_model_module": "@jupyter-widgets/base",
       "_model_module_version": "2.0.0",
       "_model_name": "LayoutModel",
       "_view_count": null,
       "_view_module": "@jupyter-widgets/base",
       "_view_module_version": "2.0.0",
       "_view_name": "LayoutView",
       "align_content": null,
       "align_items": null,
       "align_self": null,
       "border_bottom": null,
       "border_left": null,
       "border_right": null,
       "border_top": null,
       "bottom": null,
       "display": null,
       "flex": null,
       "flex_flow": null,
       "grid_area": null,
       "grid_auto_columns": null,
       "grid_auto_flow": null,
       "grid_auto_rows": null,
       "grid_column": null,
       "grid_gap": null,
       "grid_row": null,
       "grid_template_areas": null,
       "grid_template_columns": null,
       "grid_template_rows": null,
       "height": null,
       "justify_content": null,
       "justify_items": null,
       "left": null,
       "margin": null,
       "max_height": null,
       "max_width": null,
       "min_height": null,
       "min_width": null,
       "object_fit": null,
       "object_position": null,
       "order": null,
       "overflow": null,
       "padding": null,
       "right": null,
       "top": null,
       "visibility": null,
       "width": null
      }
     },
     "62146e80be0a41859df7e7f5c2cbc917": {
      "model_module": "@jupyter-widgets/controls",
      "model_module_version": "2.0.0",
      "model_name": "ProgressStyleModel",
      "state": {
       "_model_module": "@jupyter-widgets/controls",
       "_model_module_version": "2.0.0",
       "_model_name": "ProgressStyleModel",
       "_view_count": null,
       "_view_module": "@jupyter-widgets/base",
       "_view_module_version": "2.0.0",
       "_view_name": "StyleView",
       "bar_color": null,
       "description_width": ""
      }
     },
     "797fd57585534577b12429af1b9d4c8a": {
      "model_module": "@jupyter-widgets/base",
      "model_module_version": "2.0.0",
      "model_name": "LayoutModel",
      "state": {
       "_model_module": "@jupyter-widgets/base",
       "_model_module_version": "2.0.0",
       "_model_name": "LayoutModel",
       "_view_count": null,
       "_view_module": "@jupyter-widgets/base",
       "_view_module_version": "2.0.0",
       "_view_name": "LayoutView",
       "align_content": null,
       "align_items": null,
       "align_self": null,
       "border_bottom": null,
       "border_left": null,
       "border_right": null,
       "border_top": null,
       "bottom": null,
       "display": null,
       "flex": null,
       "flex_flow": null,
       "grid_area": null,
       "grid_auto_columns": null,
       "grid_auto_flow": null,
       "grid_auto_rows": null,
       "grid_column": null,
       "grid_gap": null,
       "grid_row": null,
       "grid_template_areas": null,
       "grid_template_columns": null,
       "grid_template_rows": null,
       "height": null,
       "justify_content": null,
       "justify_items": null,
       "left": null,
       "margin": null,
       "max_height": null,
       "max_width": null,
       "min_height": null,
       "min_width": null,
       "object_fit": null,
       "object_position": null,
       "order": null,
       "overflow": null,
       "padding": null,
       "right": null,
       "top": null,
       "visibility": null,
       "width": null
      }
     },
     "7eefd86b4b7a4345b11c2f799deb73be": {
      "model_module": "@jupyter-widgets/controls",
      "model_module_version": "2.0.0",
      "model_name": "HBoxModel",
      "state": {
       "_dom_classes": [],
       "_model_module": "@jupyter-widgets/controls",
       "_model_module_version": "2.0.0",
       "_model_name": "HBoxModel",
       "_view_count": null,
       "_view_module": "@jupyter-widgets/controls",
       "_view_module_version": "2.0.0",
       "_view_name": "HBoxView",
       "box_style": "",
       "children": [
        "IPY_MODEL_0473742a534245dfba1feba74c3982ad",
        "IPY_MODEL_31713c9f4f63427299580e721fed4701",
        "IPY_MODEL_f30cefc8177e44539baa6f92dec34ed8"
       ],
       "layout": "IPY_MODEL_c11cc943cff04d25803a83c164def5e8",
       "tabbable": null,
       "tooltip": null
      }
     },
     "c11cc943cff04d25803a83c164def5e8": {
      "model_module": "@jupyter-widgets/base",
      "model_module_version": "2.0.0",
      "model_name": "LayoutModel",
      "state": {
       "_model_module": "@jupyter-widgets/base",
       "_model_module_version": "2.0.0",
       "_model_name": "LayoutModel",
       "_view_count": null,
       "_view_module": "@jupyter-widgets/base",
       "_view_module_version": "2.0.0",
       "_view_name": "LayoutView",
       "align_content": null,
       "align_items": null,
       "align_self": null,
       "border_bottom": null,
       "border_left": null,
       "border_right": null,
       "border_top": null,
       "bottom": null,
       "display": null,
       "flex": null,
       "flex_flow": null,
       "grid_area": null,
       "grid_auto_columns": null,
       "grid_auto_flow": null,
       "grid_auto_rows": null,
       "grid_column": null,
       "grid_gap": null,
       "grid_row": null,
       "grid_template_areas": null,
       "grid_template_columns": null,
       "grid_template_rows": null,
       "height": null,
       "justify_content": null,
       "justify_items": null,
       "left": null,
       "margin": null,
       "max_height": null,
       "max_width": null,
       "min_height": null,
       "min_width": null,
       "object_fit": null,
       "object_position": null,
       "order": null,
       "overflow": null,
       "padding": null,
       "right": null,
       "top": null,
       "visibility": null,
       "width": null
      }
     },
     "d9d22ec9f8a2406f86aebe7b22175458": {
      "model_module": "@jupyter-widgets/base",
      "model_module_version": "2.0.0",
      "model_name": "LayoutModel",
      "state": {
       "_model_module": "@jupyter-widgets/base",
       "_model_module_version": "2.0.0",
       "_model_name": "LayoutModel",
       "_view_count": null,
       "_view_module": "@jupyter-widgets/base",
       "_view_module_version": "2.0.0",
       "_view_name": "LayoutView",
       "align_content": null,
       "align_items": null,
       "align_self": null,
       "border_bottom": null,
       "border_left": null,
       "border_right": null,
       "border_top": null,
       "bottom": null,
       "display": null,
       "flex": null,
       "flex_flow": null,
       "grid_area": null,
       "grid_auto_columns": null,
       "grid_auto_flow": null,
       "grid_auto_rows": null,
       "grid_column": null,
       "grid_gap": null,
       "grid_row": null,
       "grid_template_areas": null,
       "grid_template_columns": null,
       "grid_template_rows": null,
       "height": null,
       "justify_content": null,
       "justify_items": null,
       "left": null,
       "margin": null,
       "max_height": null,
       "max_width": null,
       "min_height": null,
       "min_width": null,
       "object_fit": null,
       "object_position": null,
       "order": null,
       "overflow": null,
       "padding": null,
       "right": null,
       "top": null,
       "visibility": null,
       "width": null
      }
     },
     "f30cefc8177e44539baa6f92dec34ed8": {
      "model_module": "@jupyter-widgets/controls",
      "model_module_version": "2.0.0",
      "model_name": "HTMLModel",
      "state": {
       "_dom_classes": [],
       "_model_module": "@jupyter-widgets/controls",
       "_model_module_version": "2.0.0",
       "_model_name": "HTMLModel",
       "_view_count": null,
       "_view_module": "@jupyter-widgets/controls",
       "_view_module_version": "2.0.0",
       "_view_name": "HTMLView",
       "description": "",
       "description_allow_html": false,
       "layout": "IPY_MODEL_d9d22ec9f8a2406f86aebe7b22175458",
       "placeholder": "​",
       "style": "IPY_MODEL_3b14e55366f44ed4b01848d28b70bb30",
       "tabbable": null,
       "tooltip": null,
       "value": " 114M/114M [00:00&lt;00:00, 231MB/s]"
      }
     }
    },
    "version_major": 2,
    "version_minor": 0
   }
  }
 },
 "nbformat": 4,
 "nbformat_minor": 5
}
