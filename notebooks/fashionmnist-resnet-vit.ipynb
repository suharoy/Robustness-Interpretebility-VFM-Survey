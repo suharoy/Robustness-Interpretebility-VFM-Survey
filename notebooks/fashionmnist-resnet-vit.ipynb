{
 "cells": [
  {
   "cell_type": "markdown",
   "metadata": {},
   "source": [
    "# Inputs Libraries"
   ]
  },
  {
   "cell_type": "code",
   "execution_count": null,
   "metadata": {
    "execution": {
     "iopub.execute_input": "2025-07-19T06:25:49.697263Z",
     "iopub.status.busy": "2025-07-19T06:25:49.696699Z",
     "iopub.status.idle": "2025-07-19T06:25:49.701095Z",
     "shell.execute_reply": "2025-07-19T06:25:49.700461Z",
     "shell.execute_reply.started": "2025-07-19T06:25:49.697239Z"
    },
    "trusted": true
   },
   "outputs": [],
   "source": [
    "import torch\n",
    "import torch.nn as nn\n",
    "import torch.optim as optim\n",
    "import torchvision\n",
    "import torchvision.transforms as T\n",
    "import timm\n",
    "from tqdm import tqdm\n",
    "import matplotlib.pyplot as plt"
   ]
  },
  {
   "cell_type": "markdown",
   "metadata": {},
   "source": [
    "# Setup and Defining Transforms"
   ]
  },
  {
   "cell_type": "code",
   "execution_count": null,
   "metadata": {
    "execution": {
     "iopub.execute_input": "2025-07-19T04:35:53.155854Z",
     "iopub.status.busy": "2025-07-19T04:35:53.155368Z",
     "iopub.status.idle": "2025-07-19T04:35:53.261551Z",
     "shell.execute_reply": "2025-07-19T04:35:53.260865Z",
     "shell.execute_reply.started": "2025-07-19T04:35:53.155828Z"
    },
    "trusted": true
   },
   "outputs": [],
   "source": [
    "device = torch.device('cuda' if torch.cuda.is_available() else 'cpu')\n",
    "img_size = 224  \n",
    "batch_size = 32\n",
    "# Grayscale mean/std for FashionMNIST (normalized to 3 channels)\n",
    "mean = (0.2860, 0.2860, 0.2860)\n",
    "std = (0.3530, 0.3530, 0.3530)"
   ]
  },
  {
   "cell_type": "code",
   "execution_count": null,
   "metadata": {
    "execution": {
     "iopub.execute_input": "2025-07-19T06:38:44.051738Z",
     "iopub.status.busy": "2025-07-19T06:38:44.051473Z",
     "iopub.status.idle": "2025-07-19T06:38:44.371723Z",
     "shell.execute_reply": "2025-07-19T06:38:44.371104Z",
     "shell.execute_reply.started": "2025-07-19T06:38:44.051717Z"
    },
    "trusted": true
   },
   "outputs": [],
   "source": [
    "trainset = torchvision.datasets.FashionMNIST(root='./data', train=True, download=True)\n",
    "print(\"FashionMNIST classes:\", trainset.classes)\n",
    "plt.figure(figsize=(12,2))\n",
    "for i in range(6):\n",
    "    img, label = trainset[i]\n",
    "    plt.subplot(1,6,i+1)\n",
    "    plt.imshow(img)\n",
    "    plt.title(trainset.classes[label])\n",
    "    plt.axis('off')\n",
    "plt.show()"
   ]
  },
  {
   "cell_type": "code",
   "execution_count": null,
   "metadata": {
    "execution": {
     "iopub.execute_input": "2025-07-19T04:36:09.109167Z",
     "iopub.status.busy": "2025-07-19T04:36:09.108868Z",
     "iopub.status.idle": "2025-07-19T04:36:09.113770Z",
     "shell.execute_reply": "2025-07-19T04:36:09.113251Z",
     "shell.execute_reply.started": "2025-07-19T04:36:09.109146Z"
    },
    "trusted": true
   },
   "outputs": [],
   "source": [
    "def make_train_transform(img_size):\n",
    "    return T.Compose([\n",
    "        T.Resize(img_size),\n",
    "        T.Grayscale(num_output_channels=3),\n",
    "        T.RandomHorizontalFlip(),\n",
    "        T.RandomCrop(img_size, padding=4),\n",
    "        T.ToTensor(),\n",
    "        T.Normalize(mean, std)\n",
    "    ])\n",
    "\n",
    "def make_test_transform(img_size):\n",
    "    return T.Compose([\n",
    "        T.Resize(img_size),\n",
    "        T.Grayscale(num_output_channels=3),\n",
    "        T.ToTensor(),\n",
    "        T.Normalize(mean, std)\n",
    "    ])"
   ]
  },
  {
   "cell_type": "code",
   "execution_count": null,
   "metadata": {
    "execution": {
     "iopub.execute_input": "2025-07-19T06:37:21.923960Z",
     "iopub.status.busy": "2025-07-19T06:37:21.923666Z",
     "iopub.status.idle": "2025-07-19T06:37:21.930849Z",
     "shell.execute_reply": "2025-07-19T06:37:21.930169Z",
     "shell.execute_reply.started": "2025-07-19T06:37:21.923914Z"
    },
    "trusted": true
   },
   "outputs": [],
   "source": [
    "def make_transforms(img_size):\n",
    "    # Adjust mean/std as needed for your dataset\n",
    "    mean = (0.2860, 0.2860, 0.2860)\n",
    "    std = (0.3530, 0.3530, 0.3530)\n",
    "    from torchvision import transforms as T\n",
    "    return {\n",
    "        \"Clean\": T.Compose([\n",
    "            T.Resize(img_size),\n",
    "            T.Grayscale(num_output_channels=3),\n",
    "            T.ToTensor(),\n",
    "            T.Normalize(mean, std)\n",
    "        ]),\n",
    "        \"Horizontal Flip\": T.Compose([\n",
    "            T.Resize(img_size),\n",
    "            T.Grayscale(num_output_channels=3),\n",
    "            T.RandomHorizontalFlip(p=1.0),\n",
    "            T.ToTensor(),\n",
    "            T.Normalize(mean, std)\n",
    "        ]),\n",
    "        \"Rotation\": T.Compose([\n",
    "            T.Resize(img_size),\n",
    "            T.Grayscale(num_output_channels=3),\n",
    "            T.RandomRotation(30),\n",
    "            T.ToTensor(),\n",
    "            T.Normalize(mean, std)\n",
    "        ]),\n",
    "        \"Blur\": T.Compose([\n",
    "            T.Resize(img_size),\n",
    "            T.Grayscale(num_output_channels=3),\n",
    "            T.GaussianBlur(3),\n",
    "            T.ToTensor(),\n",
    "            T.Normalize(mean, std)\n",
    "        ]),\n",
    "        \"Brightness\": T.Compose([\n",
    "            T.Resize(img_size),\n",
    "            T.Grayscale(num_output_channels=3),\n",
    "            T.ColorJitter(brightness=0.5),\n",
    "            T.ToTensor(),\n",
    "            T.Normalize(mean, std)\n",
    "        ]),\n",
    "        \"Gaussian Noise\": T.Compose([\n",
    "            T.Resize(img_size),\n",
    "            T.Grayscale(num_output_channels=3),\n",
    "            T.ToTensor(),\n",
    "            # Add noise after ToTensor\n",
    "            T.Lambda(lambda x: x + 0.2 * torch.randn_like(x)),\n",
    "            T.Normalize(mean, std)\n",
    "        ]),\n",
    "    }"
   ]
  },
  {
   "cell_type": "code",
   "execution_count": null,
   "metadata": {
    "execution": {
     "iopub.execute_input": "2025-07-19T06:37:38.404359Z",
     "iopub.status.busy": "2025-07-19T06:37:38.403766Z",
     "iopub.status.idle": "2025-07-19T06:37:40.590522Z",
     "shell.execute_reply": "2025-07-19T06:37:40.589840Z",
     "shell.execute_reply.started": "2025-07-19T06:37:38.404334Z"
    },
    "trusted": true
   },
   "outputs": [],
   "source": [
    "import matplotlib.pyplot as plt\n",
    "import numpy as np\n",
    "import torchvision\n",
    "\n",
    "img_size = 32  #\n",
    "mean = (0.2860, 0.2860, 0.2860)\n",
    "std = (0.3530, 0.3530, 0.3530)\n",
    "n_images = 8  # Images per row\n",
    "\n",
    "all_transforms = make_transforms(img_size)\n",
    "n_transforms = len(all_transforms)\n",
    "\n",
    "plt.figure(figsize=(2*n_images, 2*n_transforms))\n",
    "\n",
    "for idx, (transform_name, transform) in enumerate(all_transforms.items()):\n",
    "    dataset = torchvision.datasets.FashionMNIST(root='./data', train=False, download=True, transform=transform)\n",
    "    loader = torch.utils.data.DataLoader(dataset, batch_size=n_images, shuffle=True)\n",
    "    images, labels = next(iter(loader))\n",
    "    for j in range(n_images):\n",
    "        plt_idx = idx * n_images + j + 1\n",
    "        ax = plt.subplot(n_transforms, n_images, plt_idx)\n",
    "        img_np = images[j].cpu().numpy().transpose(1,2,0)\n",
    "        img_np = img_np * np.array(std) + np.array(mean)\n",
    "        img_np = np.clip(img_np, 0, 1)\n",
    "        ax.imshow(img_np.squeeze(), cmap='gray')\n",
    "        ax.set_xticks([])\n",
    "        ax.set_yticks([])\n",
    "        if j == 0:\n",
    "            ax.set_ylabel(transform_name, fontsize=11, rotation=0, labelpad=60, va='center')\n",
    "        else:\n",
    "            ax.set_ylabel('')\n",
    "        ax.set_title(f\"{labels[j].item()}\", fontsize=8)\n",
    "plt.suptitle(\"Transforms Applied to FashionMNIST Test Images\\nEach Row = 1 Transform\", fontsize=14, y=1.02)\n",
    "plt.tight_layout()\n",
    "plt.show()"
   ]
  },
  {
   "cell_type": "code",
   "execution_count": null,
   "metadata": {
    "execution": {
     "iopub.execute_input": "2025-07-19T04:37:15.959085Z",
     "iopub.status.busy": "2025-07-19T04:37:15.958502Z",
     "iopub.status.idle": "2025-07-19T04:37:21.061597Z",
     "shell.execute_reply": "2025-07-19T04:37:21.060817Z",
     "shell.execute_reply.started": "2025-07-19T04:37:15.959062Z"
    },
    "trusted": true
   },
   "outputs": [],
   "source": [
    "trainset = torchvision.datasets.FashionMNIST(root='./data', train=True, download=True, transform=make_train_transform(img_size))\n",
    "testset = torchvision.datasets.FashionMNIST(root='./data', train=False, download=True, transform=make_test_transform(img_size))\n",
    "trainloader = torch.utils.data.DataLoader(trainset, batch_size=batch_size, shuffle=True, num_workers=2)\n",
    "testloader = torch.utils.data.DataLoader(testset, batch_size=batch_size, shuffle=False, num_workers=2)"
   ]
  },
  {
   "cell_type": "code",
   "execution_count": null,
   "metadata": {
    "execution": {
     "iopub.execute_input": "2025-07-19T04:38:30.450704Z",
     "iopub.status.busy": "2025-07-19T04:38:30.450440Z",
     "iopub.status.idle": "2025-07-19T04:38:32.529874Z",
     "shell.execute_reply": "2025-07-19T04:38:32.529182Z",
     "shell.execute_reply.started": "2025-07-19T04:38:30.450685Z"
    },
    "trusted": true
   },
   "outputs": [],
   "source": [
    "# ResNet-18 (ImageNet style, 224 input)\n",
    "model = torchvision.models.resnet18(weights='IMAGENET1K_V1')\n",
    "model.fc = nn.Linear(model.fc.in_features, 10)\n",
    "model = model.to(device)\n",
    "\n",
    "# OR ViT (from timm)\n",
    "model = timm.create_model('vit_small_patch16_224', pretrained=True)\n",
    "model.head = nn.Linear(model.head.in_features, 10)\n",
    "model = model.to(device)\n",
    "\n",
    "optimizer = optim.Adam(model.parameters(), lr=0.0005, weight_decay=1e-4)\n",
    "criterion = nn.CrossEntropyLoss()"
   ]
  },
  {
   "cell_type": "markdown",
   "metadata": {},
   "source": [
    "# Training and Evaluation"
   ]
  },
  {
   "cell_type": "code",
   "execution_count": null,
   "metadata": {
    "execution": {
     "iopub.execute_input": "2025-07-19T04:39:39.051294Z",
     "iopub.status.busy": "2025-07-19T04:39:39.050565Z",
     "iopub.status.idle": "2025-07-19T04:39:39.056505Z",
     "shell.execute_reply": "2025-07-19T04:39:39.055719Z",
     "shell.execute_reply.started": "2025-07-19T04:39:39.051265Z"
    },
    "trusted": true
   },
   "outputs": [],
   "source": [
    "def train_one_epoch(model, loader, criterion, optimizer, device):\n",
    "    model.train()\n",
    "    running_loss = 0.0\n",
    "    correct = 0\n",
    "    total = 0\n",
    "    for images, labels in tqdm(loader):\n",
    "        images, labels = images.to(device), labels.to(device)\n",
    "        optimizer.zero_grad()\n",
    "        outputs = model(images)\n",
    "        if outputs.dim() == 3:\n",
    "            outputs = outputs.mean(1)\n",
    "        loss = criterion(outputs, labels)\n",
    "        loss.backward()\n",
    "        optimizer.step()\n",
    "        running_loss += loss.item() * images.size(0)\n",
    "        _, preds = torch.max(outputs, 1)\n",
    "        correct += (preds == labels).sum().item()\n",
    "        total += labels.size(0)\n",
    "    return running_loss / total, 100.0 * correct / total"
   ]
  },
  {
   "cell_type": "code",
   "execution_count": null,
   "metadata": {
    "execution": {
     "iopub.execute_input": "2025-07-19T04:40:01.370999Z",
     "iopub.status.busy": "2025-07-19T04:40:01.370436Z",
     "iopub.status.idle": "2025-07-19T04:40:01.376373Z",
     "shell.execute_reply": "2025-07-19T04:40:01.375331Z",
     "shell.execute_reply.started": "2025-07-19T04:40:01.370975Z"
    },
    "trusted": true
   },
   "outputs": [],
   "source": [
    "def evaluate(model, dataloader):\n",
    "    model.eval()\n",
    "    correct = 0\n",
    "    total = 0\n",
    "    with torch.no_grad():\n",
    "        for images, labels in dataloader:\n",
    "            images, labels = images.to(device), labels.to(device)\n",
    "            outputs = model(images)\n",
    "            if outputs.dim() == 3:\n",
    "                outputs = outputs.mean(1)\n",
    "            _, preds = torch.max(outputs, 1)\n",
    "            correct += (preds == labels).sum().item()\n",
    "            total += labels.size(0)\n",
    "    return 100.0 * correct / total"
   ]
  },
  {
   "cell_type": "code",
   "execution_count": null,
   "metadata": {
    "execution": {
     "iopub.execute_input": "2025-07-19T04:47:29.793300Z",
     "iopub.status.busy": "2025-07-19T04:47:29.792481Z",
     "iopub.status.idle": "2025-07-19T04:47:29.797676Z",
     "shell.execute_reply": "2025-07-19T04:47:29.797038Z",
     "shell.execute_reply.started": "2025-07-19T04:47:29.793274Z"
    },
    "trusted": true
   },
   "outputs": [],
   "source": [
    "models = [\n",
    "    ('ResNet-18', lambda: torchvision.models.resnet18(weights='IMAGENET1K_V1'), 32),\n",
    "    ('ViT-Small', lambda: timm.create_model('vit_small_patch16_224', pretrained=True), 224),\n",
    "]\n",
    "\n",
    "def adjust_model(model):\n",
    "    if hasattr(model, 'fc'):  # ResNet\n",
    "        model.fc = nn.Linear(model.fc.in_features, 10)\n",
    "    elif hasattr(model, 'head'):  # ViT\n",
    "        model.head = nn.Linear(model.head.in_features, 10)\n",
    "    return model"
   ]
  },
  {
   "cell_type": "code",
   "execution_count": null,
   "metadata": {
    "execution": {
     "iopub.execute_input": "2025-07-19T04:52:01.804054Z",
     "iopub.status.busy": "2025-07-19T04:52:01.803748Z",
     "iopub.status.idle": "2025-07-19T06:23:45.772153Z",
     "shell.execute_reply": "2025-07-19T06:23:45.771199Z",
     "shell.execute_reply.started": "2025-07-19T04:52:01.804030Z"
    },
    "trusted": true
   },
   "outputs": [],
   "source": [
    "epochs = 10    \n",
    "batch_size = 128\n",
    "\n",
    "for model_name, model_func, img_size in models:\n",
    "    print(f\"\\n=== Training {model_name} on FashionMNIST ===\")\n",
    "    model = model_func()\n",
    "    model = adjust_model(model)\n",
    "    model = model.to(device)\n",
    "\n",
    "    # Datasets and loaders\n",
    "    trainset = torchvision.datasets.CIFAR10(root='./data', train=True, download=True, transform=make_train_transform(img_size))\n",
    "    trainloader = torch.utils.data.DataLoader(trainset, batch_size=batch_size, shuffle=True, num_workers=2)\n",
    "    testset = torchvision.datasets.CIFAR10(root='./data', train=False, download=True, transform=make_test_transform(img_size))\n",
    "    testloader = torch.utils.data.DataLoader(testset, batch_size=256, shuffle=False, num_workers=2)\n",
    "\n",
    "    criterion = nn.CrossEntropyLoss()\n",
    "    optimizer = optim.Adam(model.parameters(), lr=0.001)\n",
    "\n",
    "    for epoch in range(epochs):\n",
    "        train_loss, train_acc = train_one_epoch(model, trainloader, criterion, optimizer, device)\n",
    "        test_acc = evaluate(model, testloader)\n",
    "        print(f\"Epoch {epoch+1}/{epochs} - Train Acc: {train_acc:.2f}% - Test Acc: {test_acc:.2f}%\")\n",
    "    \n",
    "    torch.save(model.state_dict(), f\"{model_name}_fashionmnist.pth\")\n",
    "    print(f\"Saved {model_name} trained weights.\\n\")"
   ]
  },
  {
   "cell_type": "markdown",
   "metadata": {},
   "source": [
    "\n"
   ]
  },
  {
   "cell_type": "code",
   "execution_count": null,
   "metadata": {
    "execution": {
     "iopub.execute_input": "2025-07-19T06:45:57.594521Z",
     "iopub.status.busy": "2025-07-19T06:45:57.593902Z",
     "iopub.status.idle": "2025-07-19T06:49:56.149029Z",
     "shell.execute_reply": "2025-07-19T06:49:56.148262Z",
     "shell.execute_reply.started": "2025-07-19T06:45:57.594497Z"
    },
    "trusted": true
   },
   "outputs": [],
   "source": [
    "import pandas as pd\n",
    "\n",
    "models = [\n",
    "    ('ResNet-18', lambda: torchvision.models.resnet18(weights=None), 32),\n",
    "    ('ViT-Small', lambda: timm.create_model('vit_small_patch16_224', pretrained=False), 224),\n",
    "]\n",
    "\n",
    "model_paths = {\n",
    "    \"ResNet-18\": \"/kaggle/input/resnet18-fashionmnist/pytorch/default/1/ResNet-18_fashionmnist.pth\",\n",
    "    \"ViT-Small\": \"/kaggle/input/vit-fashionmnist/pytorch/default/1/ViT-Small_fashionmnist.pth\"\n",
    "}\n",
    "\n",
    "results = []\n",
    "\n",
    "for model_name, model_func, img_size in models:\n",
    "    print(f\"\\nEvaluating {model_name} robustness (input size {img_size})...\")\n",
    "    model = model_func()\n",
    "    model = adjust_model(model)\n",
    "    state_dict = torch.load(model_paths[model_name], map_location=device)\n",
    "    model.load_state_dict(state_dict)\n",
    "    model = model.to(device)\n",
    "    model.eval()\n",
    "    curr_transforms = make_transforms(img_size)  \n",
    "    testloaders = {}\n",
    "    for name, transform in curr_transforms.items():\n",
    "        dataset = torchvision.datasets.CIFAR10(root='./data', train=False, download=True, transform=transform)\n",
    "        testloaders[name] = torch.utils.data.DataLoader(dataset, batch_size=256, shuffle=False, num_workers=2)\n",
    "    model_results = {'Model': model_name}\n",
    "    for corr_name, loader in testloaders.items():\n",
    "        acc = evaluate(model, loader)\n",
    "        model_results[corr_name] = acc\n",
    "        print(f\"{corr_name}: {acc:.2f}%\")\n",
    "    results.append(model_results)\n",
    "\n",
    "df = pd.DataFrame(results)\n",
    "df.set_index('Model', inplace=True)\n",
    "display(df.style.background_gradient(cmap='Blues'))"
   ]
  }
 ],
 "metadata": {
  "kaggle": {
   "accelerator": "nvidiaTeslaT4",
   "dataSources": [
    {
     "datasetId": 2243,
     "sourceId": 9243,
     "sourceType": "datasetVersion"
    },
    {
     "isSourceIdPinned": true,
     "modelId": 403595,
     "modelInstanceId": 384218,
     "sourceId": 477876,
     "sourceType": "modelInstanceVersion"
    },
    {
     "isSourceIdPinned": true,
     "modelId": 403626,
     "modelInstanceId": 384252,
     "sourceId": 477950,
     "sourceType": "modelInstanceVersion"
    }
   ],
   "dockerImageVersionId": 31090,
   "isGpuEnabled": true,
   "isInternetEnabled": true,
   "language": "python",
   "sourceType": "notebook"
  },
  "kernelspec": {
   "display_name": "Python 3",
   "language": "python",
   "name": "python3"
  },
  "language_info": {
   "codemirror_mode": {
    "name": "ipython",
    "version": 3
   },
   "file_extension": ".py",
   "mimetype": "text/x-python",
   "name": "python",
   "nbconvert_exporter": "python",
   "pygments_lexer": "ipython3",
   "version": "3.11.13"
  }
 },
 "nbformat": 4,
 "nbformat_minor": 4
}
